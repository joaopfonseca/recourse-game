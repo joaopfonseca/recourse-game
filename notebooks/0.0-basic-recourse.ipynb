{
 "cells": [
  {
   "cell_type": "code",
   "execution_count": 1,
   "id": "e635e181-0c63-4d78-b718-68071b94182a",
   "metadata": {
    "tags": []
   },
   "outputs": [],
   "source": [
    "import sys\n",
    "\n",
    "sys.path.append(\"../\")"
   ]
  },
  {
   "cell_type": "code",
   "execution_count": 2,
   "id": "7f315723-44cb-4b65-8d57-de567651a8c4",
   "metadata": {
    "tags": []
   },
   "outputs": [],
   "source": [
    "import numpy as np\n",
    "import pandas as pd\n",
    "from sklearn.linear_model import LogisticRegression\n",
    "\n",
    "from recgame.recourse import ActionableRecourse, NFeatureRecourse\n",
    "\n",
    "rng = np.random.default_rng(42)\n",
    "df = pd.DataFrame(rng.random((100, 4)), columns=[\"a\", \"b\", \"c\", \"d\"])\n",
    "y = rng.integers(0, 2, 100)\n",
    "\n",
    "lr = LogisticRegression().fit(df, y)\n",
    "y_pred = lr.predict_proba(df)[:, -1] > 0.6"
   ]
  },
  {
   "cell_type": "code",
   "execution_count": 3,
   "id": "3c1b4828-dfb8-4907-b4a2-d8c87ed8c8f7",
   "metadata": {
    "tags": []
   },
   "outputs": [
    {
     "name": "stderr",
     "output_type": "stream",
     "text": [
      "/home/joaofonseca/Research/recourse-game/recourse-game/recgame/recourse/base.py:54: UserWarning: Action set is being defined during counterfactual generation. If you are using a subset of the data, this could lead to undesired restrictions.\n",
      "  warnings.warn(\n"
     ]
    },
    {
     "data": {
      "text/html": [
       "<div>\n",
       "<style scoped>\n",
       "    .dataframe tbody tr th:only-of-type {\n",
       "        vertical-align: middle;\n",
       "    }\n",
       "\n",
       "    .dataframe tbody tr th {\n",
       "        vertical-align: top;\n",
       "    }\n",
       "\n",
       "    .dataframe thead th {\n",
       "        text-align: right;\n",
       "    }\n",
       "</style>\n",
       "<table border=\"1\" class=\"dataframe\">\n",
       "  <thead>\n",
       "    <tr style=\"text-align: right;\">\n",
       "      <th></th>\n",
       "      <th>a</th>\n",
       "      <th>b</th>\n",
       "      <th>c</th>\n",
       "      <th>d</th>\n",
       "    </tr>\n",
       "  </thead>\n",
       "  <tbody>\n",
       "    <tr>\n",
       "      <th>0</th>\n",
       "      <td>0.773956</td>\n",
       "      <td>0.438878</td>\n",
       "      <td>0.44</td>\n",
       "      <td>0.697368</td>\n",
       "    </tr>\n",
       "    <tr>\n",
       "      <th>1</th>\n",
       "      <td>0.240000</td>\n",
       "      <td>0.975622</td>\n",
       "      <td>0.00</td>\n",
       "      <td>0.786064</td>\n",
       "    </tr>\n",
       "    <tr>\n",
       "      <th>2</th>\n",
       "      <td>0.150000</td>\n",
       "      <td>0.450000</td>\n",
       "      <td>0.28</td>\n",
       "      <td>0.926765</td>\n",
       "    </tr>\n",
       "    <tr>\n",
       "      <th>3</th>\n",
       "      <td>0.650000</td>\n",
       "      <td>0.822762</td>\n",
       "      <td>0.00</td>\n",
       "      <td>0.480000</td>\n",
       "    </tr>\n",
       "    <tr>\n",
       "      <th>4</th>\n",
       "      <td>0.554585</td>\n",
       "      <td>0.020000</td>\n",
       "      <td>0.38</td>\n",
       "      <td>0.631664</td>\n",
       "    </tr>\n",
       "  </tbody>\n",
       "</table>\n",
       "</div>"
      ],
      "text/plain": [
       "          a         b     c         d\n",
       "0  0.773956  0.438878  0.44  0.697368\n",
       "1  0.240000  0.975622  0.00  0.786064\n",
       "2  0.150000  0.450000  0.28  0.926765\n",
       "3  0.650000  0.822762  0.00  0.480000\n",
       "4  0.554585  0.020000  0.38  0.631664"
      ]
     },
     "execution_count": 3,
     "metadata": {},
     "output_type": "execute_result"
    }
   ],
   "source": [
    "recourse = ActionableRecourse(lr, threshold=0.6, flipset_size=100)\n",
    "cfs = recourse.counterfactual(df)\n",
    "cfs.head()"
   ]
  },
  {
   "cell_type": "code",
   "execution_count": 4,
   "id": "d1e6382d-5155-4ef3-aac3-9eaab8b9096f",
   "metadata": {
    "tags": []
   },
   "outputs": [
    {
     "name": "stderr",
     "output_type": "stream",
     "text": [
      "/home/joaofonseca/Research/recourse-game/recourse-game/recgame/recourse/base.py:54: UserWarning: Action set is being defined during counterfactual generation. If you are using a subset of the data, this could lead to undesired restrictions.\n",
      "  warnings.warn(\n"
     ]
    },
    {
     "data": {
      "text/html": [
       "<div>\n",
       "<style scoped>\n",
       "    .dataframe tbody tr th:only-of-type {\n",
       "        vertical-align: middle;\n",
       "    }\n",
       "\n",
       "    .dataframe tbody tr th {\n",
       "        vertical-align: top;\n",
       "    }\n",
       "\n",
       "    .dataframe thead th {\n",
       "        text-align: right;\n",
       "    }\n",
       "</style>\n",
       "<table border=\"1\" class=\"dataframe\">\n",
       "  <thead>\n",
       "    <tr style=\"text-align: right;\">\n",
       "      <th></th>\n",
       "      <th>a</th>\n",
       "      <th>b</th>\n",
       "      <th>c</th>\n",
       "      <th>d</th>\n",
       "    </tr>\n",
       "  </thead>\n",
       "  <tbody>\n",
       "    <tr>\n",
       "      <th>0</th>\n",
       "      <td>0.875077</td>\n",
       "      <td>0.383560</td>\n",
       "      <td>0.700557</td>\n",
       "      <td>0.863096</td>\n",
       "    </tr>\n",
       "    <tr>\n",
       "      <th>1</th>\n",
       "      <td>0.368267</td>\n",
       "      <td>0.825682</td>\n",
       "      <td>0.332767</td>\n",
       "      <td>0.969176</td>\n",
       "    </tr>\n",
       "    <tr>\n",
       "      <th>2</th>\n",
       "      <td>0.153595</td>\n",
       "      <td>0.436446</td>\n",
       "      <td>0.330973</td>\n",
       "      <td>0.968527</td>\n",
       "    </tr>\n",
       "    <tr>\n",
       "      <th>3</th>\n",
       "      <td>0.816814</td>\n",
       "      <td>0.728150</td>\n",
       "      <td>0.173113</td>\n",
       "      <td>0.510686</td>\n",
       "    </tr>\n",
       "    <tr>\n",
       "      <th>4</th>\n",
       "      <td>0.668824</td>\n",
       "      <td>0.021148</td>\n",
       "      <td>0.649087</td>\n",
       "      <td>0.818892</td>\n",
       "    </tr>\n",
       "  </tbody>\n",
       "</table>\n",
       "</div>"
      ],
      "text/plain": [
       "          a         b         c         d\n",
       "0  0.875077  0.383560  0.700557  0.863096\n",
       "1  0.368267  0.825682  0.332767  0.969176\n",
       "2  0.153595  0.436446  0.330973  0.968527\n",
       "3  0.816814  0.728150  0.173113  0.510686\n",
       "4  0.668824  0.021148  0.649087  0.818892"
      ]
     },
     "execution_count": 4,
     "metadata": {},
     "output_type": "execute_result"
    }
   ],
   "source": [
    "recourse = NFeatureRecourse(lr, threshold=0.6, n_features=None)\n",
    "cfs = recourse.counterfactual(df)\n",
    "cfs.head()"
   ]
  }
 ],
 "metadata": {
  "kernelspec": {
   "display_name": "Python 3 (ipykernel)",
   "language": "python",
   "name": "python3"
  },
  "language_info": {
   "codemirror_mode": {
    "name": "ipython",
    "version": 3
   },
   "file_extension": ".py",
   "mimetype": "text/x-python",
   "name": "python",
   "nbconvert_exporter": "python",
   "pygments_lexer": "ipython3",
   "version": "3.10.9"
  }
 },
 "nbformat": 4,
 "nbformat_minor": 5
}
