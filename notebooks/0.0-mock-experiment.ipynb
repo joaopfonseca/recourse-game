{
 "cells": [
  {
   "cell_type": "code",
   "execution_count": 3,
   "id": "e635e181-0c63-4d78-b718-68071b94182a",
   "metadata": {
    "tags": []
   },
   "outputs": [],
   "source": [
    "import sys\n",
    "sys.path.append(\"../\")"
   ]
  },
  {
   "cell_type": "code",
   "execution_count": 5,
   "id": "7f315723-44cb-4b65-8d57-de567651a8c4",
   "metadata": {
    "tags": []
   },
   "outputs": [],
   "source": [
    "import numpy as np\n",
    "import pandas as pd\n",
    "from sklearn.linear_model import LogisticRegression\n",
    "\n",
    "from algorec.populations import BasePopulation\n",
    "from algorec.recourse import ActionableRecourse, NFeatureRecourse\n",
    "\n",
    "rng = np.random.default_rng(42)\n",
    "df = pd.DataFrame(rng.random((100, 4)), columns=[\"a\", \"b\", \"c\", \"d\"])\n",
    "y = rng.integers(0, 2, 100)\n",
    "\n",
    "lr = LogisticRegression().fit(df, y)\n",
    "y_pred = lr.predict_proba(df)[:, -1] > 0.6\n",
    "\n",
    "# Testing counterfactuals\n",
    "population = BasePopulation(\n",
    "    data=df, y_desired=1, categorical=None, immutable=[\"b\"], step_direction={\"a\": -1}\n",
    ")"
   ]
  },
  {
   "cell_type": "code",
   "execution_count": 8,
   "id": "1c74f537-1340-473d-b5d6-a43c3af994f9",
   "metadata": {
    "tags": []
   },
   "outputs": [
    {
     "data": {
      "text/html": [
       "<div>\n",
       "<style scoped>\n",
       "    .dataframe tbody tr th:only-of-type {\n",
       "        vertical-align: middle;\n",
       "    }\n",
       "\n",
       "    .dataframe tbody tr th {\n",
       "        vertical-align: top;\n",
       "    }\n",
       "\n",
       "    .dataframe thead th {\n",
       "        text-align: right;\n",
       "    }\n",
       "</style>\n",
       "<table border=\"1\" class=\"dataframe\">\n",
       "  <thead>\n",
       "    <tr style=\"text-align: right;\">\n",
       "      <th></th>\n",
       "      <th>a</th>\n",
       "      <th>b</th>\n",
       "      <th>c</th>\n",
       "      <th>d</th>\n",
       "    </tr>\n",
       "  </thead>\n",
       "  <tbody>\n",
       "    <tr>\n",
       "      <th>0</th>\n",
       "      <td>0.773956</td>\n",
       "      <td>0.438878</td>\n",
       "      <td>0.858598</td>\n",
       "      <td>0.697368</td>\n",
       "    </tr>\n",
       "    <tr>\n",
       "      <th>1</th>\n",
       "      <td>0.094177</td>\n",
       "      <td>0.975622</td>\n",
       "      <td>0.761140</td>\n",
       "      <td>0.786064</td>\n",
       "    </tr>\n",
       "    <tr>\n",
       "      <th>2</th>\n",
       "      <td>0.128114</td>\n",
       "      <td>0.450386</td>\n",
       "      <td>0.370798</td>\n",
       "      <td>0.926765</td>\n",
       "    </tr>\n",
       "    <tr>\n",
       "      <th>3</th>\n",
       "      <td>0.643865</td>\n",
       "      <td>0.822762</td>\n",
       "      <td>0.443414</td>\n",
       "      <td>0.227239</td>\n",
       "    </tr>\n",
       "    <tr>\n",
       "      <th>4</th>\n",
       "      <td>0.554585</td>\n",
       "      <td>0.063817</td>\n",
       "      <td>0.827631</td>\n",
       "      <td>0.631664</td>\n",
       "    </tr>\n",
       "  </tbody>\n",
       "</table>\n",
       "</div>"
      ],
      "text/plain": [
       "          a         b         c         d\n",
       "0  0.773956  0.438878  0.858598  0.697368\n",
       "1  0.094177  0.975622  0.761140  0.786064\n",
       "2  0.128114  0.450386  0.370798  0.926765\n",
       "3  0.643865  0.822762  0.443414  0.227239\n",
       "4  0.554585  0.063817  0.827631  0.631664"
      ]
     },
     "execution_count": 8,
     "metadata": {},
     "output_type": "execute_result"
    }
   ],
   "source": [
    "population.data.head()"
   ]
  },
  {
   "cell_type": "code",
   "execution_count": 9,
   "id": "3c1b4828-dfb8-4907-b4a2-d8c87ed8c8f7",
   "metadata": {
    "tags": []
   },
   "outputs": [
    {
     "data": {
      "text/html": [
       "<div>\n",
       "<style scoped>\n",
       "    .dataframe tbody tr th:only-of-type {\n",
       "        vertical-align: middle;\n",
       "    }\n",
       "\n",
       "    .dataframe tbody tr th {\n",
       "        vertical-align: top;\n",
       "    }\n",
       "\n",
       "    .dataframe thead th {\n",
       "        text-align: right;\n",
       "    }\n",
       "</style>\n",
       "<table border=\"1\" class=\"dataframe\">\n",
       "  <thead>\n",
       "    <tr style=\"text-align: right;\">\n",
       "      <th></th>\n",
       "      <th>a</th>\n",
       "      <th>b</th>\n",
       "      <th>c</th>\n",
       "      <th>d</th>\n",
       "    </tr>\n",
       "  </thead>\n",
       "  <tbody>\n",
       "    <tr>\n",
       "      <th>0</th>\n",
       "      <td>0.773956</td>\n",
       "      <td>0.438878</td>\n",
       "      <td>4.400000e-01</td>\n",
       "      <td>0.697368</td>\n",
       "    </tr>\n",
       "    <tr>\n",
       "      <th>1</th>\n",
       "      <td>0.094177</td>\n",
       "      <td>0.975622</td>\n",
       "      <td>2.220446e-16</td>\n",
       "      <td>0.870000</td>\n",
       "    </tr>\n",
       "    <tr>\n",
       "      <th>2</th>\n",
       "      <td>0.128114</td>\n",
       "      <td>0.450386</td>\n",
       "      <td>2.600000e-01</td>\n",
       "      <td>0.926765</td>\n",
       "    </tr>\n",
       "    <tr>\n",
       "      <th>3</th>\n",
       "      <td>0.643865</td>\n",
       "      <td>0.822762</td>\n",
       "      <td>0.000000e+00</td>\n",
       "      <td>0.490000</td>\n",
       "    </tr>\n",
       "    <tr>\n",
       "      <th>4</th>\n",
       "      <td>0.554585</td>\n",
       "      <td>0.063817</td>\n",
       "      <td>3.600000e-01</td>\n",
       "      <td>0.631664</td>\n",
       "    </tr>\n",
       "  </tbody>\n",
       "</table>\n",
       "</div>"
      ],
      "text/plain": [
       "          a         b             c         d\n",
       "0  0.773956  0.438878  4.400000e-01  0.697368\n",
       "1  0.094177  0.975622  2.220446e-16  0.870000\n",
       "2  0.128114  0.450386  2.600000e-01  0.926765\n",
       "3  0.643865  0.822762  0.000000e+00  0.490000\n",
       "4  0.554585  0.063817  3.600000e-01  0.631664"
      ]
     },
     "execution_count": 9,
     "metadata": {},
     "output_type": "execute_result"
    }
   ],
   "source": [
    "recourse = ActionableRecourse(lr, threshold=0.6, flipset_size=100)\n",
    "cfs = recourse.counterfactual(population)\n",
    "cfs.head()"
   ]
  },
  {
   "cell_type": "code",
   "execution_count": 10,
   "id": "d1e6382d-5155-4ef3-aac3-9eaab8b9096f",
   "metadata": {
    "tags": []
   },
   "outputs": [
    {
     "data": {
      "text/html": [
       "<div>\n",
       "<style scoped>\n",
       "    .dataframe tbody tr th:only-of-type {\n",
       "        vertical-align: middle;\n",
       "    }\n",
       "\n",
       "    .dataframe tbody tr th {\n",
       "        vertical-align: top;\n",
       "    }\n",
       "\n",
       "    .dataframe thead th {\n",
       "        text-align: right;\n",
       "    }\n",
       "</style>\n",
       "<table border=\"1\" class=\"dataframe\">\n",
       "  <thead>\n",
       "    <tr style=\"text-align: right;\">\n",
       "      <th></th>\n",
       "      <th>a</th>\n",
       "      <th>b</th>\n",
       "      <th>c</th>\n",
       "      <th>d</th>\n",
       "    </tr>\n",
       "  </thead>\n",
       "  <tbody>\n",
       "    <tr>\n",
       "      <th>0</th>\n",
       "      <td>0.773956</td>\n",
       "      <td>0.438878</td>\n",
       "      <td>0.660519</td>\n",
       "      <td>0.905081</td>\n",
       "    </tr>\n",
       "    <tr>\n",
       "      <th>1</th>\n",
       "      <td>0.094177</td>\n",
       "      <td>0.975622</td>\n",
       "      <td>0.357144</td>\n",
       "      <td>1.209710</td>\n",
       "    </tr>\n",
       "    <tr>\n",
       "      <th>2</th>\n",
       "      <td>0.128114</td>\n",
       "      <td>0.450386</td>\n",
       "      <td>0.320883</td>\n",
       "      <td>0.979107</td>\n",
       "    </tr>\n",
       "    <tr>\n",
       "      <th>3</th>\n",
       "      <td>0.643865</td>\n",
       "      <td>0.822762</td>\n",
       "      <td>0.104637</td>\n",
       "      <td>0.582493</td>\n",
       "    </tr>\n",
       "    <tr>\n",
       "      <th>4</th>\n",
       "      <td>0.554585</td>\n",
       "      <td>0.063817</td>\n",
       "      <td>0.607161</td>\n",
       "      <td>0.862858</td>\n",
       "    </tr>\n",
       "  </tbody>\n",
       "</table>\n",
       "</div>"
      ],
      "text/plain": [
       "          a         b         c         d\n",
       "0  0.773956  0.438878  0.660519  0.905081\n",
       "1  0.094177  0.975622  0.357144  1.209710\n",
       "2  0.128114  0.450386  0.320883  0.979107\n",
       "3  0.643865  0.822762  0.104637  0.582493\n",
       "4  0.554585  0.063817  0.607161  0.862858"
      ]
     },
     "execution_count": 10,
     "metadata": {},
     "output_type": "execute_result"
    }
   ],
   "source": [
    "recourse = NFeatureRecourse(lr, threshold=0.6, n_features=None)\n",
    "cfs = recourse.counterfactual(population)\n",
    "cfs.head()"
   ]
  }
 ],
 "metadata": {
  "kernelspec": {
   "display_name": "Python 3 (ipykernel)",
   "language": "python",
   "name": "python3"
  },
  "language_info": {
   "codemirror_mode": {
    "name": "ipython",
    "version": 3
   },
   "file_extension": ".py",
   "mimetype": "text/x-python",
   "name": "python",
   "nbconvert_exporter": "python",
   "pygments_lexer": "ipython3",
   "version": "3.10.9"
  }
 },
 "nbformat": 4,
 "nbformat_minor": 5
}
