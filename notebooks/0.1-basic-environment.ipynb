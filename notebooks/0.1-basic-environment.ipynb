{
 "cells": [
  {
   "cell_type": "code",
   "execution_count": 1,
   "id": "e88d085e-7be1-4bf0-9604-44507aa82897",
   "metadata": {
    "tags": []
   },
   "outputs": [],
   "source": [
    "import sys\n",
    "\n",
    "sys.path.append(\"../\")"
   ]
  },
  {
   "cell_type": "code",
   "execution_count": 2,
   "id": "8ed0b0f2-bf84-4352-ad67-2a1b0c740821",
   "metadata": {
    "tags": []
   },
   "outputs": [],
   "source": [
    "import numpy as np\n",
    "import pandas as pd\n",
    "from sklearn.linear_model import LogisticRegression\n",
    "\n",
    "from recgame.environments import BaseEnvironment\n",
    "from recgame.recourse import ActionableRecourse, NFeatureRecourse\n",
    "\n",
    "rng = np.random.default_rng(42)\n",
    "\n",
    "def data_source_func(n_agents):\n",
    "    df = pd.DataFrame(rng.random((n_agents, 4)), columns=[\"a\", \"b\", \"c\", \"d\"])\n",
    "    df[\"cat_1\"] = rng.integers(0, 2, n_agents)\n",
    "    return df\n",
    "\n",
    "df = data_source_func(100)\n",
    "y = rng.integers(0, 2, 100)\n",
    "\n",
    "lr = LogisticRegression().fit(df, y)"
   ]
  },
  {
   "cell_type": "markdown",
   "id": "8faca2b5-c8fb-4d17-af81-40b42b1cff80",
   "metadata": {
    "tags": []
   },
   "source": [
    "### Environment using ``ActionableRecourse``"
   ]
  },
  {
   "cell_type": "code",
   "execution_count": 3,
   "id": "a6b768d8-2cd3-4657-863b-0f64cea45c47",
   "metadata": {
    "tags": []
   },
   "outputs": [],
   "source": [
    "# Test an environment\n",
    "recourse = ActionableRecourse(model=lr, categorical=[\"cat_1\"], threshold=0.6)\n",
    "recourse.set_actions(df)\n",
    "\n",
    "environment = BaseEnvironment(\n",
    "    X=df,\n",
    "    recourse=recourse,\n",
    "    data_source_func=data_source_func,\n",
    "    threshold=10,\n",
    "    threshold_type=\"absolute\",\n",
    "    growth_rate=10,\n",
    "    growth_rate_type=\"absolute\",\n",
    "    adaptation=.1,\n",
    "    behavior_function=\"binary_constant\",\n",
    ")"
   ]
  },
  {
   "cell_type": "code",
   "execution_count": 4,
   "id": "1c2d082c-7e2c-45f9-a70e-26f326892ed9",
   "metadata": {
    "tags": []
   },
   "outputs": [
    {
     "ename": "AssertionError",
     "evalue": "",
     "output_type": "error",
     "traceback": [
      "\u001b[0;31m---------------------------------------------------------------------------\u001b[0m",
      "\u001b[0;31mAssertionError\u001b[0m                            Traceback (most recent call last)",
      "Cell \u001b[0;32mIn[4], line 7\u001b[0m\n\u001b[1;32m      5\u001b[0m \u001b[38;5;28;01massert\u001b[39;00m environment\u001b[38;5;241m.\u001b[39mstep_ \u001b[38;5;241m==\u001b[39m \u001b[38;5;241m6\u001b[39m\n\u001b[1;32m      6\u001b[0m \u001b[38;5;28;01massert\u001b[39;00m environment\u001b[38;5;241m.\u001b[39mX_\u001b[38;5;241m.\u001b[39mshape[\u001b[38;5;241m0\u001b[39m] \u001b[38;5;241m==\u001b[39m \u001b[38;5;241m100\u001b[39m\n\u001b[0;32m----> 7\u001b[0m \u001b[38;5;28;01massert\u001b[39;00m (environment\u001b[38;5;241m.\u001b[39mX_\u001b[38;5;241m.\u001b[39mdtypes \u001b[38;5;241m==\u001b[39m environment\u001b[38;5;241m.\u001b[39mX\u001b[38;5;241m.\u001b[39mdtypes)\u001b[38;5;241m.\u001b[39mall()\n",
      "\u001b[0;31mAssertionError\u001b[0m: "
     ]
    }
   ],
   "source": [
    "assert environment.step_ == 0\n",
    "\n",
    "environment.simulate(6)\n",
    "\n",
    "assert environment.step_ == 6\n",
    "assert environment.X_.shape[0] == 100\n",
    "assert (environment.X_.dtypes == environment.X.dtypes).all()"
   ]
  },
  {
   "cell_type": "code",
   "execution_count": 6,
   "id": "d286e78f-049c-46ae-9237-062cdfdbfb7a",
   "metadata": {
    "tags": []
   },
   "outputs": [
    {
     "data": {
      "text/plain": [
       "(a        float64\n",
       " b        float64\n",
       " c        float64\n",
       " d        float64\n",
       " cat_1    float64\n",
       " dtype: object,\n",
       " a        float64\n",
       " b        float64\n",
       " c        float64\n",
       " d        float64\n",
       " cat_1      int64\n",
       " dtype: object)"
      ]
     },
     "execution_count": 6,
     "metadata": {},
     "output_type": "execute_result"
    }
   ],
   "source": [
    "environment.X_.dtypes, environment.X.dtypes"
   ]
  },
  {
   "cell_type": "code",
   "execution_count": 7,
   "id": "90d9786f-4851-4d47-b264-5fd0cc0e1142",
   "metadata": {
    "tags": []
   },
   "outputs": [
    {
     "data": {
      "text/plain": [
       "[(0, 90), (1, 90), (2, 90), (3, 90), (4, 90), (5, 90), (6, 90)]"
      ]
     },
     "execution_count": 7,
     "metadata": {},
     "output_type": "execute_result"
    }
   ],
   "source": [
    "[environment.get_number_new_agents(i) for i in range(6)]\n",
    "[environment.get_score_threshold(i) for i in range(6)]\n",
    "[(i, environment.metadata_[i][\"threshold_index\"]) for i in range(len(environment.metadata_))]"
   ]
  },
  {
   "cell_type": "code",
   "execution_count": 8,
   "id": "7f021902-8905-4ee3-b827-f68c232cf3a9",
   "metadata": {
    "tags": []
   },
   "outputs": [
    {
     "data": {
      "text/plain": [
       "[(0, (100, 5)),\n",
       " (1, (100, 5)),\n",
       " (2, (100, 5)),\n",
       " (3, (100, 5)),\n",
       " (4, (100, 5)),\n",
       " (5, (100, 5)),\n",
       " (6, (100, 5))]"
      ]
     },
     "execution_count": 8,
     "metadata": {},
     "output_type": "execute_result"
    }
   ],
   "source": [
    "[(i, environment.metadata_[i][\"X\"].shape) for i in range(len(environment.metadata_))]"
   ]
  },
  {
   "cell_type": "markdown",
   "id": "68f79cc3-be73-4ac6-994d-56a99877bed6",
   "metadata": {
    "tags": []
   },
   "source": [
    "### Environment using ``NFeatureRecourse``"
   ]
  },
  {
   "cell_type": "code",
   "execution_count": 9,
   "id": "8a70ff01-1d45-466d-b2e7-6e6db8137b6d",
   "metadata": {},
   "outputs": [],
   "source": [
    "recourse = NFeatureRecourse(model=lr, threshold=0.6, categorical=[\"cat_1\"],)\n",
    "\n",
    "environment = BaseEnvironment(\n",
    "    X=df,\n",
    "    recourse=recourse,\n",
    "    data_source_func=data_source_func,\n",
    "    threshold=10,\n",
    "    threshold_type=\"absolute\",\n",
    "    growth_rate=11,\n",
    "    growth_rate_type=\"absolute\",\n",
    "    adaptation=.1,\n",
    "    behavior_function=\"binary_constant\",\n",
    ")"
   ]
  },
  {
   "cell_type": "code",
   "execution_count": 10,
   "id": "deaebc87-7172-4dc7-9199-feee320575de",
   "metadata": {
    "tags": []
   },
   "outputs": [
    {
     "ename": "AssertionError",
     "evalue": "",
     "output_type": "error",
     "traceback": [
      "\u001b[0;31m---------------------------------------------------------------------------\u001b[0m",
      "\u001b[0;31mAssertionError\u001b[0m                            Traceback (most recent call last)",
      "Cell \u001b[0;32mIn[10], line 7\u001b[0m\n\u001b[1;32m      5\u001b[0m \u001b[38;5;28;01massert\u001b[39;00m environment\u001b[38;5;241m.\u001b[39mstep_ \u001b[38;5;241m==\u001b[39m \u001b[38;5;241m6\u001b[39m\n\u001b[1;32m      6\u001b[0m \u001b[38;5;28;01massert\u001b[39;00m environment\u001b[38;5;241m.\u001b[39mX_\u001b[38;5;241m.\u001b[39mshape[\u001b[38;5;241m0\u001b[39m] \u001b[38;5;241m==\u001b[39m \u001b[38;5;241m106\u001b[39m\n\u001b[0;32m----> 7\u001b[0m \u001b[38;5;28;01massert\u001b[39;00m (environment\u001b[38;5;241m.\u001b[39mX_\u001b[38;5;241m.\u001b[39mdtypes \u001b[38;5;241m==\u001b[39m environment\u001b[38;5;241m.\u001b[39mX\u001b[38;5;241m.\u001b[39mdtypes)\u001b[38;5;241m.\u001b[39mall()\n",
      "\u001b[0;31mAssertionError\u001b[0m: "
     ]
    }
   ],
   "source": [
    "assert environment.step_ == 0\n",
    "\n",
    "environment.simulate(6)\n",
    "\n",
    "assert environment.step_ == 6\n",
    "assert environment.X_.shape[0] == 106\n",
    "assert (environment.X_.dtypes == environment.X.dtypes).all()"
   ]
  },
  {
   "cell_type": "code",
   "execution_count": 11,
   "id": "1fc36c96-aa40-480f-b5e7-81e0f966ae0a",
   "metadata": {
    "tags": []
   },
   "outputs": [
    {
     "data": {
      "text/plain": [
       "[(0, 100), (1, 101), (2, 102), (3, 103), (4, 104), (5, 105), (6, 106)]"
      ]
     },
     "execution_count": 11,
     "metadata": {},
     "output_type": "execute_result"
    }
   ],
   "source": [
    "[(i, environment.metadata_[i][\"growth_k\"]) for i in range(len(environment.metadata_))]\n",
    "[(i, environment.metadata_[i][\"outcome\"].sum()) for i in range(len(environment.metadata_))]\n",
    "[(i, environment.metadata_[i][\"X\"].shape[0]) for i in range(len(environment.metadata_))]"
   ]
  },
  {
   "cell_type": "code",
   "execution_count": 12,
   "id": "d7712161-50b4-4b2c-a061-0f650be8f0df",
   "metadata": {
    "tags": []
   },
   "outputs": [
    {
     "data": {
      "text/plain": [
       "dict_keys(['X', 'effort', 'outcome', 'score', 'threshold', 'growth_k', 'threshold_index'])"
      ]
     },
     "execution_count": 12,
     "metadata": {},
     "output_type": "execute_result"
    }
   ],
   "source": [
    "environment.metadata_[2].keys()"
   ]
  },
  {
   "cell_type": "code",
   "execution_count": 14,
   "id": "b69c05f1-7ba3-4225-b82e-aae9023450ae",
   "metadata": {
    "tags": []
   },
   "outputs": [
    {
     "data": {
      "text/html": [
       "<div>\n",
       "<style scoped>\n",
       "    .dataframe tbody tr th:only-of-type {\n",
       "        vertical-align: middle;\n",
       "    }\n",
       "\n",
       "    .dataframe tbody tr th {\n",
       "        vertical-align: top;\n",
       "    }\n",
       "\n",
       "    .dataframe thead th {\n",
       "        text-align: right;\n",
       "    }\n",
       "</style>\n",
       "<table border=\"1\" class=\"dataframe\">\n",
       "  <thead>\n",
       "    <tr style=\"text-align: right;\">\n",
       "      <th></th>\n",
       "      <th>a</th>\n",
       "      <th>b</th>\n",
       "      <th>c</th>\n",
       "      <th>d</th>\n",
       "      <th>cat_1</th>\n",
       "    </tr>\n",
       "  </thead>\n",
       "  <tbody>\n",
       "    <tr>\n",
       "      <th>0</th>\n",
       "      <td>0.819242</td>\n",
       "      <td>0.566010</td>\n",
       "      <td>0.943380</td>\n",
       "      <td>0.704678</td>\n",
       "      <td>0.000000</td>\n",
       "    </tr>\n",
       "    <tr>\n",
       "      <th>2</th>\n",
       "      <td>0.304148</td>\n",
       "      <td>0.944569</td>\n",
       "      <td>0.700362</td>\n",
       "      <td>0.955181</td>\n",
       "      <td>0.975993</td>\n",
       "    </tr>\n",
       "    <tr>\n",
       "      <th>3</th>\n",
       "      <td>0.692460</td>\n",
       "      <td>0.959182</td>\n",
       "      <td>0.534391</td>\n",
       "      <td>0.235083</td>\n",
       "      <td>0.993373</td>\n",
       "    </tr>\n",
       "    <tr>\n",
       "      <th>4</th>\n",
       "      <td>0.753057</td>\n",
       "      <td>0.620990</td>\n",
       "      <td>0.970698</td>\n",
       "      <td>0.663702</td>\n",
       "      <td>0.972932</td>\n",
       "    </tr>\n",
       "    <tr>\n",
       "      <th>5</th>\n",
       "      <td>0.837597</td>\n",
       "      <td>0.577734</td>\n",
       "      <td>0.970698</td>\n",
       "      <td>0.905956</td>\n",
       "      <td>0.989157</td>\n",
       "    </tr>\n",
       "    <tr>\n",
       "      <th>...</th>\n",
       "      <td>...</td>\n",
       "      <td>...</td>\n",
       "      <td>...</td>\n",
       "      <td>...</td>\n",
       "      <td>...</td>\n",
       "    </tr>\n",
       "    <tr>\n",
       "      <th>106</th>\n",
       "      <td>0.341029</td>\n",
       "      <td>0.992376</td>\n",
       "      <td>0.601637</td>\n",
       "      <td>0.215722</td>\n",
       "      <td>0.000000</td>\n",
       "    </tr>\n",
       "    <tr>\n",
       "      <th>107</th>\n",
       "      <td>0.747511</td>\n",
       "      <td>0.770772</td>\n",
       "      <td>0.780381</td>\n",
       "      <td>0.320757</td>\n",
       "      <td>0.996955</td>\n",
       "    </tr>\n",
       "    <tr>\n",
       "      <th>108</th>\n",
       "      <td>0.979571</td>\n",
       "      <td>0.933880</td>\n",
       "      <td>0.352801</td>\n",
       "      <td>0.163272</td>\n",
       "      <td>0.000000</td>\n",
       "    </tr>\n",
       "    <tr>\n",
       "      <th>109</th>\n",
       "      <td>0.865590</td>\n",
       "      <td>0.657188</td>\n",
       "      <td>0.830229</td>\n",
       "      <td>0.969176</td>\n",
       "      <td>0.976475</td>\n",
       "    </tr>\n",
       "    <tr>\n",
       "      <th>110</th>\n",
       "      <td>0.265137</td>\n",
       "      <td>0.749651</td>\n",
       "      <td>0.970698</td>\n",
       "      <td>0.626791</td>\n",
       "      <td>0.000000</td>\n",
       "    </tr>\n",
       "  </tbody>\n",
       "</table>\n",
       "<p>101 rows × 5 columns</p>\n",
       "</div>"
      ],
      "text/plain": [
       "            a         b         c         d     cat_1\n",
       "0    0.819242  0.566010  0.943380  0.704678  0.000000\n",
       "2    0.304148  0.944569  0.700362  0.955181  0.975993\n",
       "3    0.692460  0.959182  0.534391  0.235083  0.993373\n",
       "4    0.753057  0.620990  0.970698  0.663702  0.972932\n",
       "5    0.837597  0.577734  0.970698  0.905956  0.989157\n",
       "..        ...       ...       ...       ...       ...\n",
       "106  0.341029  0.992376  0.601637  0.215722  0.000000\n",
       "107  0.747511  0.770772  0.780381  0.320757  0.996955\n",
       "108  0.979571  0.933880  0.352801  0.163272  0.000000\n",
       "109  0.865590  0.657188  0.830229  0.969176  0.976475\n",
       "110  0.265137  0.749651  0.970698  0.626791  0.000000\n",
       "\n",
       "[101 rows x 5 columns]"
      ]
     },
     "execution_count": 14,
     "metadata": {},
     "output_type": "execute_result"
    }
   ],
   "source": [
    "environment.counterfactual(environment.metadata_[1][\"X\"])"
   ]
  }
 ],
 "metadata": {
  "kernelspec": {
   "display_name": "Python 3 (ipykernel)",
   "language": "python",
   "name": "python3"
  },
  "language_info": {
   "codemirror_mode": {
    "name": "ipython",
    "version": 3
   },
   "file_extension": ".py",
   "mimetype": "text/x-python",
   "name": "python",
   "nbconvert_exporter": "python",
   "pygments_lexer": "ipython3",
   "version": "3.10.9"
  }
 },
 "nbformat": 4,
 "nbformat_minor": 5
}
