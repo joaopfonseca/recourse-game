{
 "cells": [
  {
   "cell_type": "code",
   "execution_count": 1,
   "id": "dadc12ae-4d3f-4cab-a3df-d9cf8aecf59e",
   "metadata": {
    "tags": []
   },
   "outputs": [],
   "source": [
    "import numpy as np\n",
    "import pandas as pd\n",
    "import matplotlib.pyplot as plt\n",
    "from sklearn.linear_model import LogisticRegression\n",
    "from mlresearch.utils import set_matplotlib_style\n",
    "from recgame.environments import BaseEnvironment\n",
    "from recgame.recourse import NFeatureRecourse\n",
    "from recgame.utils import generate_synthetic_data"
   ]
  },
  {
   "cell_type": "code",
   "execution_count": 2,
   "id": "9ee6579f-50f9-4ad7-8488-c4b94032cfa0",
   "metadata": {
    "tags": []
   },
   "outputs": [],
   "source": [
    "set_matplotlib_style(16)\n",
    "# SAVE_PATH = \"../assets/multi-agent-dynamic-counterfactual-recourse/analysis/\"\n",
    "\n",
    "# Some variables to define the problem\n",
    "RNG_SEED = 42\n",
    "rng = np.random.default_rng(RNG_SEED)\n",
    "N_CONTINUOUS = 2\n",
    "N_CAT = 0\n",
    "N_AGENTS = 1000\n",
    "\n",
    "# Environment variables\n",
    "N_LOANS = 10  # np.array([20, 1, 10, 30, 0, 5, 50, 10, 40])\n",
    "ADAPTATION = 0.1  # 0.5  # np.array([.2, .1, .3, .25, .1, .4, .05, .05, .2])\n",
    "NEW_AGENTS = 10  # np.array([40, 10, 50, 5, 0, 100, 0, 0, 20])\n",
    "\n",
    "df, y, categorical = generate_synthetic_data(N_AGENTS, N_CONTINUOUS, N_CAT, RNG_SEED)\n",
    "\n",
    "lr = LogisticRegression().fit(df, y)"
   ]
  },
  {
   "cell_type": "code",
   "execution_count": 3,
   "id": "14f25b08-9b45-4acf-a501-066d6752d281",
   "metadata": {
    "tags": []
   },
   "outputs": [],
   "source": [
    "def data_source_func(n_agents):\n",
    "    X, _, _ = generate_synthetic_data(\n",
    "        n_agents=n_agents,\n",
    "        n_continuous=N_CONTINUOUS,\n",
    "        n_categorical=N_CAT,\n",
    "        random_state=rng\n",
    "    )\n",
    "    return X"
   ]
  },
  {
   "cell_type": "code",
   "execution_count": 4,
   "id": "3ebe0998-5298-4900-ab02-f4dc71d4126c",
   "metadata": {
    "tags": []
   },
   "outputs": [
    {
     "ename": "IndexError",
     "evalue": "positional indexers are out-of-bounds",
     "output_type": "error",
     "traceback": [
      "\u001b[0;31m---------------------------------------------------------------------------\u001b[0m",
      "\u001b[0;31mIndexError\u001b[0m                                Traceback (most recent call last)",
      "File \u001b[0;32m~/miniconda3/envs/recourse-game/lib/python3.10/site-packages/pandas/core/indexing.py:1587\u001b[0m, in \u001b[0;36m_iLocIndexer._get_list_axis\u001b[0;34m(self, key, axis)\u001b[0m\n\u001b[1;32m   1586\u001b[0m \u001b[38;5;28;01mtry\u001b[39;00m:\n\u001b[0;32m-> 1587\u001b[0m     \u001b[38;5;28;01mreturn\u001b[39;00m \u001b[38;5;28;43mself\u001b[39;49m\u001b[38;5;241;43m.\u001b[39;49m\u001b[43mobj\u001b[49m\u001b[38;5;241;43m.\u001b[39;49m\u001b[43m_take_with_is_copy\u001b[49m\u001b[43m(\u001b[49m\u001b[43mkey\u001b[49m\u001b[43m,\u001b[49m\u001b[43m \u001b[49m\u001b[43maxis\u001b[49m\u001b[38;5;241;43m=\u001b[39;49m\u001b[43maxis\u001b[49m\u001b[43m)\u001b[49m\n\u001b[1;32m   1588\u001b[0m \u001b[38;5;28;01mexcept\u001b[39;00m \u001b[38;5;167;01mIndexError\u001b[39;00m \u001b[38;5;28;01mas\u001b[39;00m err:\n\u001b[1;32m   1589\u001b[0m     \u001b[38;5;66;03m# re-raise with different error message\u001b[39;00m\n",
      "File \u001b[0;32m~/miniconda3/envs/recourse-game/lib/python3.10/site-packages/pandas/core/series.py:945\u001b[0m, in \u001b[0;36mSeries._take_with_is_copy\u001b[0;34m(self, indices, axis)\u001b[0m\n\u001b[1;32m    937\u001b[0m \u001b[38;5;250m\u001b[39m\u001b[38;5;124;03m\"\"\"\u001b[39;00m\n\u001b[1;32m    938\u001b[0m \u001b[38;5;124;03mInternal version of the `take` method that sets the `_is_copy`\u001b[39;00m\n\u001b[1;32m    939\u001b[0m \u001b[38;5;124;03mattribute to keep track of the parent dataframe (using in indexing\u001b[39;00m\n\u001b[0;32m   (...)\u001b[0m\n\u001b[1;32m    943\u001b[0m \u001b[38;5;124;03mSee the docstring of `take` for full explanation of the parameters.\u001b[39;00m\n\u001b[1;32m    944\u001b[0m \u001b[38;5;124;03m\"\"\"\u001b[39;00m\n\u001b[0;32m--> 945\u001b[0m \u001b[38;5;28;01mreturn\u001b[39;00m \u001b[38;5;28;43mself\u001b[39;49m\u001b[38;5;241;43m.\u001b[39;49m\u001b[43mtake\u001b[49m\u001b[43m(\u001b[49m\u001b[43mindices\u001b[49m\u001b[38;5;241;43m=\u001b[39;49m\u001b[43mindices\u001b[49m\u001b[43m,\u001b[49m\u001b[43m \u001b[49m\u001b[43maxis\u001b[49m\u001b[38;5;241;43m=\u001b[39;49m\u001b[43maxis\u001b[49m\u001b[43m)\u001b[49m\n",
      "File \u001b[0;32m~/miniconda3/envs/recourse-game/lib/python3.10/site-packages/pandas/core/series.py:930\u001b[0m, in \u001b[0;36mSeries.take\u001b[0;34m(self, indices, axis, is_copy, **kwargs)\u001b[0m\n\u001b[1;32m    929\u001b[0m indices \u001b[38;5;241m=\u001b[39m ensure_platform_int(indices)\n\u001b[0;32m--> 930\u001b[0m new_index \u001b[38;5;241m=\u001b[39m \u001b[38;5;28;43mself\u001b[39;49m\u001b[38;5;241;43m.\u001b[39;49m\u001b[43mindex\u001b[49m\u001b[38;5;241;43m.\u001b[39;49m\u001b[43mtake\u001b[49m\u001b[43m(\u001b[49m\u001b[43mindices\u001b[49m\u001b[43m)\u001b[49m\n\u001b[1;32m    931\u001b[0m new_values \u001b[38;5;241m=\u001b[39m \u001b[38;5;28mself\u001b[39m\u001b[38;5;241m.\u001b[39m_values\u001b[38;5;241m.\u001b[39mtake(indices)\n",
      "File \u001b[0;32m~/miniconda3/envs/recourse-game/lib/python3.10/site-packages/pandas/core/indexes/base.py:1183\u001b[0m, in \u001b[0;36mIndex.take\u001b[0;34m(self, indices, axis, allow_fill, fill_value, **kwargs)\u001b[0m\n\u001b[1;32m   1182\u001b[0m \u001b[38;5;28;01mif\u001b[39;00m \u001b[38;5;28misinstance\u001b[39m(values, np\u001b[38;5;241m.\u001b[39mndarray):\n\u001b[0;32m-> 1183\u001b[0m     taken \u001b[38;5;241m=\u001b[39m \u001b[43malgos\u001b[49m\u001b[38;5;241;43m.\u001b[39;49m\u001b[43mtake\u001b[49m\u001b[43m(\u001b[49m\n\u001b[1;32m   1184\u001b[0m \u001b[43m        \u001b[49m\u001b[43mvalues\u001b[49m\u001b[43m,\u001b[49m\u001b[43m \u001b[49m\u001b[43mindices\u001b[49m\u001b[43m,\u001b[49m\u001b[43m \u001b[49m\u001b[43mallow_fill\u001b[49m\u001b[38;5;241;43m=\u001b[39;49m\u001b[43mallow_fill\u001b[49m\u001b[43m,\u001b[49m\u001b[43m \u001b[49m\u001b[43mfill_value\u001b[49m\u001b[38;5;241;43m=\u001b[39;49m\u001b[38;5;28;43mself\u001b[39;49m\u001b[38;5;241;43m.\u001b[39;49m\u001b[43m_na_value\u001b[49m\n\u001b[1;32m   1185\u001b[0m \u001b[43m    \u001b[49m\u001b[43m)\u001b[49m\n\u001b[1;32m   1186\u001b[0m \u001b[38;5;28;01melse\u001b[39;00m:\n\u001b[1;32m   1187\u001b[0m     \u001b[38;5;66;03m# algos.take passes 'axis' keyword which not all EAs accept\u001b[39;00m\n",
      "File \u001b[0;32m~/miniconda3/envs/recourse-game/lib/python3.10/site-packages/pandas/core/algorithms.py:1577\u001b[0m, in \u001b[0;36mtake\u001b[0;34m(arr, indices, axis, allow_fill, fill_value)\u001b[0m\n\u001b[1;32m   1575\u001b[0m \u001b[38;5;28;01melse\u001b[39;00m:\n\u001b[1;32m   1576\u001b[0m     \u001b[38;5;66;03m# NumPy style\u001b[39;00m\n\u001b[0;32m-> 1577\u001b[0m     result \u001b[38;5;241m=\u001b[39m \u001b[43marr\u001b[49m\u001b[38;5;241;43m.\u001b[39;49m\u001b[43mtake\u001b[49m\u001b[43m(\u001b[49m\u001b[43mindices\u001b[49m\u001b[43m,\u001b[49m\u001b[43m \u001b[49m\u001b[43maxis\u001b[49m\u001b[38;5;241;43m=\u001b[39;49m\u001b[43maxis\u001b[49m\u001b[43m)\u001b[49m\n\u001b[1;32m   1578\u001b[0m \u001b[38;5;28;01mreturn\u001b[39;00m result\n",
      "\u001b[0;31mIndexError\u001b[0m: cannot do a non-empty take from an empty axes.",
      "\nThe above exception was the direct cause of the following exception:\n",
      "\u001b[0;31mIndexError\u001b[0m                                Traceback (most recent call last)",
      "Cell \u001b[0;32mIn[4], line 16\u001b[0m\n\u001b[1;32m      2\u001b[0m recourse \u001b[38;5;241m=\u001b[39m NFeatureRecourse(lr, n_features\u001b[38;5;241m=\u001b[39m\u001b[38;5;241m2\u001b[39m, categorical\u001b[38;5;241m=\u001b[39mcategorical)\n\u001b[1;32m      3\u001b[0m environment \u001b[38;5;241m=\u001b[39m BaseEnvironment(\n\u001b[1;32m      4\u001b[0m     X\u001b[38;5;241m=\u001b[39mdf,\n\u001b[1;32m      5\u001b[0m     recourse\u001b[38;5;241m=\u001b[39mrecourse,\n\u001b[0;32m   (...)\u001b[0m\n\u001b[1;32m     13\u001b[0m     random_state\u001b[38;5;241m=\u001b[39mRNG_SEED,\n\u001b[1;32m     14\u001b[0m )\n\u001b[0;32m---> 16\u001b[0m \u001b[43menvironment\u001b[49m\u001b[38;5;241;43m.\u001b[39;49m\u001b[43msimulate\u001b[49m\u001b[43m(\u001b[49m\u001b[38;5;241;43m10\u001b[39;49m\u001b[43m)\u001b[49m\n",
      "File \u001b[0;32m~/Research/recourse-game/recourse-game/recgame/environments/base.py:314\u001b[0m, in \u001b[0;36mBaseEnvironment.simulate\u001b[0;34m(self, steps)\u001b[0m\n\u001b[1;32m    310\u001b[0m \u001b[38;5;250m\u001b[39m\u001b[38;5;124;03m\"\"\"\u001b[39;00m\n\u001b[1;32m    311\u001b[0m \u001b[38;5;124;03mNOTE: Formerly run_simulation\u001b[39;00m\n\u001b[1;32m    312\u001b[0m \u001b[38;5;124;03m\"\"\"\u001b[39;00m\n\u001b[1;32m    313\u001b[0m \u001b[38;5;28;01mfor\u001b[39;00m _ \u001b[38;5;129;01min\u001b[39;00m \u001b[38;5;28mrange\u001b[39m(steps):\n\u001b[0;32m--> 314\u001b[0m     \u001b[38;5;28;43mself\u001b[39;49m\u001b[38;5;241;43m.\u001b[39;49m\u001b[43m_simulate\u001b[49m\u001b[43m(\u001b[49m\u001b[43m)\u001b[49m\n\u001b[1;32m    315\u001b[0m \u001b[38;5;28;01mreturn\u001b[39;00m \u001b[38;5;28mself\u001b[39m\n",
      "File \u001b[0;32m~/Research/recourse-game/recourse-game/recgame/environments/base.py:332\u001b[0m, in \u001b[0;36mBaseEnvironment._simulate\u001b[0;34m(self)\u001b[0m\n\u001b[1;32m    330\u001b[0m \u001b[38;5;66;03m# Remove agents with favorable outcome from previous step\u001b[39;00m\n\u001b[1;32m    331\u001b[0m \u001b[38;5;28;01mif\u001b[39;00m \u001b[38;5;28mself\u001b[39m\u001b[38;5;241m.\u001b[39mremove_winners:\n\u001b[0;32m--> 332\u001b[0m     \u001b[38;5;28;43mself\u001b[39;49m\u001b[38;5;241;43m.\u001b[39;49m\u001b[43mremove_agents\u001b[49m\u001b[43m(\u001b[49m\u001b[43m)\u001b[49m\n\u001b[1;32m    334\u001b[0m \u001b[38;5;66;03m# Adapt agents\u001b[39;00m\n\u001b[1;32m    335\u001b[0m counterfactuals \u001b[38;5;241m=\u001b[39m \u001b[38;5;28mself\u001b[39m\u001b[38;5;241m.\u001b[39mcounterfactual(X\u001b[38;5;241m=\u001b[39m\u001b[38;5;28mself\u001b[39m\u001b[38;5;241m.\u001b[39mX_)\n",
      "File \u001b[0;32m~/Research/recourse-game/recourse-game/recgame/environments/base.py:253\u001b[0m, in \u001b[0;36mBaseEnvironment.remove_agents\u001b[0;34m(self, mask)\u001b[0m\n\u001b[1;32m    251\u001b[0m indices \u001b[38;5;241m=\u001b[39m np\u001b[38;5;241m.\u001b[39mwhere(\u001b[38;5;241m~\u001b[39mmask\u001b[38;5;241m.\u001b[39mastype(\u001b[38;5;28mbool\u001b[39m))[\u001b[38;5;241m0\u001b[39m]\n\u001b[1;32m    252\u001b[0m \u001b[38;5;28mself\u001b[39m\u001b[38;5;241m.\u001b[39mX_ \u001b[38;5;241m=\u001b[39m \u001b[38;5;28mself\u001b[39m\u001b[38;5;241m.\u001b[39mX_\u001b[38;5;241m.\u001b[39miloc[indices]\n\u001b[0;32m--> 253\u001b[0m \u001b[38;5;28mself\u001b[39m\u001b[38;5;241m.\u001b[39meffort_ \u001b[38;5;241m=\u001b[39m \u001b[38;5;28;43mself\u001b[39;49m\u001b[38;5;241;43m.\u001b[39;49m\u001b[43meffort_\u001b[49m\u001b[38;5;241;43m.\u001b[39;49m\u001b[43miloc\u001b[49m\u001b[43m[\u001b[49m\u001b[43mindices\u001b[49m\u001b[43m]\u001b[49m\n\u001b[1;32m    254\u001b[0m \u001b[38;5;28;01mreturn\u001b[39;00m \u001b[38;5;28mself\u001b[39m\n",
      "File \u001b[0;32m~/miniconda3/envs/recourse-game/lib/python3.10/site-packages/pandas/core/indexing.py:1073\u001b[0m, in \u001b[0;36m_LocationIndexer.__getitem__\u001b[0;34m(self, key)\u001b[0m\n\u001b[1;32m   1070\u001b[0m axis \u001b[38;5;241m=\u001b[39m \u001b[38;5;28mself\u001b[39m\u001b[38;5;241m.\u001b[39maxis \u001b[38;5;129;01mor\u001b[39;00m \u001b[38;5;241m0\u001b[39m\n\u001b[1;32m   1072\u001b[0m maybe_callable \u001b[38;5;241m=\u001b[39m com\u001b[38;5;241m.\u001b[39mapply_if_callable(key, \u001b[38;5;28mself\u001b[39m\u001b[38;5;241m.\u001b[39mobj)\n\u001b[0;32m-> 1073\u001b[0m \u001b[38;5;28;01mreturn\u001b[39;00m \u001b[38;5;28;43mself\u001b[39;49m\u001b[38;5;241;43m.\u001b[39;49m\u001b[43m_getitem_axis\u001b[49m\u001b[43m(\u001b[49m\u001b[43mmaybe_callable\u001b[49m\u001b[43m,\u001b[49m\u001b[43m \u001b[49m\u001b[43maxis\u001b[49m\u001b[38;5;241;43m=\u001b[39;49m\u001b[43maxis\u001b[49m\u001b[43m)\u001b[49m\n",
      "File \u001b[0;32m~/miniconda3/envs/recourse-game/lib/python3.10/site-packages/pandas/core/indexing.py:1616\u001b[0m, in \u001b[0;36m_iLocIndexer._getitem_axis\u001b[0;34m(self, key, axis)\u001b[0m\n\u001b[1;32m   1614\u001b[0m \u001b[38;5;66;03m# a list of integers\u001b[39;00m\n\u001b[1;32m   1615\u001b[0m \u001b[38;5;28;01melif\u001b[39;00m is_list_like_indexer(key):\n\u001b[0;32m-> 1616\u001b[0m     \u001b[38;5;28;01mreturn\u001b[39;00m \u001b[38;5;28;43mself\u001b[39;49m\u001b[38;5;241;43m.\u001b[39;49m\u001b[43m_get_list_axis\u001b[49m\u001b[43m(\u001b[49m\u001b[43mkey\u001b[49m\u001b[43m,\u001b[49m\u001b[43m \u001b[49m\u001b[43maxis\u001b[49m\u001b[38;5;241;43m=\u001b[39;49m\u001b[43maxis\u001b[49m\u001b[43m)\u001b[49m\n\u001b[1;32m   1618\u001b[0m \u001b[38;5;66;03m# a single integer\u001b[39;00m\n\u001b[1;32m   1619\u001b[0m \u001b[38;5;28;01melse\u001b[39;00m:\n\u001b[1;32m   1620\u001b[0m     key \u001b[38;5;241m=\u001b[39m item_from_zerodim(key)\n",
      "File \u001b[0;32m~/miniconda3/envs/recourse-game/lib/python3.10/site-packages/pandas/core/indexing.py:1590\u001b[0m, in \u001b[0;36m_iLocIndexer._get_list_axis\u001b[0;34m(self, key, axis)\u001b[0m\n\u001b[1;32m   1587\u001b[0m     \u001b[38;5;28;01mreturn\u001b[39;00m \u001b[38;5;28mself\u001b[39m\u001b[38;5;241m.\u001b[39mobj\u001b[38;5;241m.\u001b[39m_take_with_is_copy(key, axis\u001b[38;5;241m=\u001b[39maxis)\n\u001b[1;32m   1588\u001b[0m \u001b[38;5;28;01mexcept\u001b[39;00m \u001b[38;5;167;01mIndexError\u001b[39;00m \u001b[38;5;28;01mas\u001b[39;00m err:\n\u001b[1;32m   1589\u001b[0m     \u001b[38;5;66;03m# re-raise with different error message\u001b[39;00m\n\u001b[0;32m-> 1590\u001b[0m     \u001b[38;5;28;01mraise\u001b[39;00m \u001b[38;5;167;01mIndexError\u001b[39;00m(\u001b[38;5;124m\"\u001b[39m\u001b[38;5;124mpositional indexers are out-of-bounds\u001b[39m\u001b[38;5;124m\"\u001b[39m) \u001b[38;5;28;01mfrom\u001b[39;00m \u001b[38;5;21;01merr\u001b[39;00m\n",
      "\u001b[0;31mIndexError\u001b[0m: positional indexers are out-of-bounds"
     ]
    }
   ],
   "source": [
    "# Define the necessary components to run simulation\n",
    "recourse = NFeatureRecourse(lr, n_features=2, categorical=categorical)\n",
    "environment = BaseEnvironment(\n",
    "    X=df,\n",
    "    recourse=recourse,\n",
    "    data_source_func=data_source_func,\n",
    "    threshold=N_LOANS,\n",
    "    threshold_type=\"absolute\",\n",
    "    adaptation=ADAPTATION,\n",
    "    behavior_function=\"continuous_constant\",\n",
    "    growth_rate=NEW_AGENTS,\n",
    "    growth_rate_type=\"absolute\",\n",
    "    random_state=RNG_SEED,\n",
    ")\n",
    "\n",
    "environment.simulate(10)"
   ]
  },
  {
   "cell_type": "code",
   "execution_count": null,
   "id": "4fd4f6c2-c7f9-41e9-bb38-733cbe151970",
   "metadata": {
    "tags": []
   },
   "outputs": [],
   "source": [
    "environment.plot.agent_scores()"
   ]
  },
  {
   "cell_type": "code",
   "execution_count": null,
   "id": "ca55be42-88a6-4b4b-bfb4-0832713943d7",
   "metadata": {
    "tags": []
   },
   "outputs": [],
   "source": [
    "set_matplotlib_style(16, **{\"lines.markersize\": 5})\n",
    "fig, ax = plt.subplots(1, 1, figsize=[6.4, 6.4])\n",
    "ax = environment.plot.scatter(5, title=False, ax=ax)\n",
    "ax.set_xlabel(\"Feature 0\")\n",
    "ax.set_ylabel(\"Feature 1\")\n",
    "plt.savefig(\n",
    "    join(SAVE_PATH, f\"agents_scatter_plot_adaptation_{ADAPTATION}_new_agents_{NEW_AGENTS}.pdf\"),\n",
    "    format=\"pdf\",\n",
    "    bbox_inches=\"tight\",\n",
    ")\n",
    "plt.show()"
   ]
  },
  {
   "cell_type": "code",
   "execution_count": null,
   "id": "5ab2db7a-f5da-45c7-9895-c67d7d2bb459",
   "metadata": {
    "tags": []
   },
   "outputs": [],
   "source": [
    "environment.plot.scores_histogram(0)"
   ]
  },
  {
   "cell_type": "code",
   "execution_count": null,
   "id": "3f8b0f9f-ac0b-4098-bd5e-4d6bf251e4f1",
   "metadata": {
    "tags": []
   },
   "outputs": [],
   "source": [
    "set_matplotlib_style(16)\n",
    "ax = environment.plot.scores_kde(0, color=\"#9abff1\", legend=True, label=\"0\")\n",
    "ax = environment.plot.scores_kde(25, color=\"#2167bc\", legend=True, label=\"25\", ax=ax)\n",
    "ax = environment.plot.scores_kde(50, color=\"#1f2c3d\", legend=True, label=\"50\", ax=ax)\n",
    "ax.set_xlabel(\"Score\")\n",
    "ax.legend(title=\"Time Step\")\n",
    "plt.savefig(\n",
    "    join(SAVE_PATH, f\"agents_scores_distribution_adaptation_{ADAPTATION}_new_agents_{NEW_AGENTS}.pdf\"),\n",
    "    format=\"pdf\",\n",
    "    bbox_inches=\"tight\",\n",
    ")\n",
    "plt.show()"
   ]
  },
  {
   "cell_type": "code",
   "execution_count": null,
   "id": "b56ddb2e-dd26-4bb3-9167-115500efbd13",
   "metadata": {},
   "outputs": [],
   "source": [
    "environment.plot.population_size()"
   ]
  },
  {
   "cell_type": "code",
   "execution_count": null,
   "id": "c69f5731-ca28-42b0-b424-986711742fee",
   "metadata": {
    "tags": []
   },
   "outputs": [],
   "source": [
    "environment.success_rate(1, 20)"
   ]
  },
  {
   "cell_type": "code",
   "execution_count": null,
   "id": "bf5408c3-536c-4344-951a-3fa1fddd0284",
   "metadata": {
    "tags": []
   },
   "outputs": [],
   "source": [
    "environment.threshold_drift(1, 20)"
   ]
  },
  {
   "cell_type": "code",
   "execution_count": null,
   "id": "15d89d93-8329-4bdd-b6b4-c7af18b9669f",
   "metadata": {},
   "outputs": [],
   "source": [
    "steps_info = environment.steps_info()\n",
    "steps_info.tail(10)"
   ]
  },
  {
   "cell_type": "code",
   "execution_count": null,
   "id": "606b89ff-b444-48d8-b434-7115e5450f94",
   "metadata": {
    "tags": []
   },
   "outputs": [],
   "source": [
    "predictions = pd.concat(\n",
    "    [\n",
    "        steps_info.success_proba.iloc[:-1].reset_index(drop=True),\n",
    "        steps_info.threshold_drift.iloc[1:].reset_index(drop=True) * -1,\n",
    "    ],\n",
    "    axis=1,\n",
    ").astype(float)\n",
    "((predictions - predictions.min()) / (predictions.max() - predictions.min())).iloc[\n",
    "    :50\n",
    "].plot.line()\n",
    "predictions.corr()"
   ]
  },
  {
   "cell_type": "code",
   "execution_count": null,
   "id": "48389a97-80ea-476d-a7de-32c3d4f46975",
   "metadata": {
    "tags": []
   },
   "outputs": [],
   "source": [
    "steps_info.astype(float).corr().round(2)"
   ]
  },
  {
   "cell_type": "code",
   "execution_count": null,
   "id": "2d3d1e8d-dc16-4366-88b9-bfddf91ec4d4",
   "metadata": {
    "tags": []
   },
   "outputs": [],
   "source": [
    "agents_info = environment.agents_info()\n",
    "agents_info"
   ]
  },
  {
   "cell_type": "code",
   "execution_count": null,
   "id": "c1428300-97cb-4fce-a8c2-c1b9e8bee595",
   "metadata": {
    "tags": []
   },
   "outputs": [],
   "source": [
    "agents_info.corr()"
   ]
  },
  {
   "cell_type": "code",
   "execution_count": null,
   "id": "94bf0c59-0deb-4c86-89dc-8e1b13a0dce7",
   "metadata": {
    "tags": []
   },
   "outputs": [],
   "source": [
    "from collections import Counter\n",
    "\n",
    "# agents_info.plot.bar(\"n_failures\", \"n_adaptations\")\n",
    "agents_info_ = agents_info.copy()\n",
    "\n",
    "agents_info_ = agents_info_[~agents_info_.favorable_step.isna()|agents_info_.n_failures > 0]\n",
    "agents_info_[\"Initial Score\"] = pd.cut(agents_info_[\"original_score\"], 5, labels=[\"Lowest\", \"Low\", \"Mean\", \"High\", \"Highest\"])\n",
    "# agents_info_[\"success_rate\"] = \n",
    "\n",
    "agents_info_.groupby([\"Initial Score\"]).mean()[[\"n_adaptations\", \"final_score\", \"n_failures\"]]\n",
    "\n",
    "ax = agents_info_.groupby([\"Initial Score\"]).mean()[\"n_failures\"].plot.bar()\n",
    "ax.set_ylabel(\"\\# Failures (mean)\")"
   ]
  }
 ],
 "metadata": {
  "kernelspec": {
   "display_name": "Python 3 (ipykernel)",
   "language": "python",
   "name": "python3"
  },
  "language_info": {
   "codemirror_mode": {
    "name": "ipython",
    "version": 3
   },
   "file_extension": ".py",
   "mimetype": "text/x-python",
   "name": "python",
   "nbconvert_exporter": "python",
   "pygments_lexer": "ipython3",
   "version": "3.10.9"
  }
 },
 "nbformat": 4,
 "nbformat_minor": 5
}
