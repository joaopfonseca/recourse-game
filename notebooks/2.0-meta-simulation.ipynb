{
 "cells": [
  {
   "cell_type": "code",
   "execution_count": 1,
   "id": "bbe74cab-6ab5-4191-b23f-09b324d96318",
   "metadata": {
    "tags": []
   },
   "outputs": [],
   "source": [
    "from itertools import product\n",
    "from copy import deepcopy\n",
    "from rich.progress import track\n",
    "\n",
    "import numpy as np\n",
    "import pandas as pd\n",
    "import matplotlib.pyplot as plt\n",
    "from scipy.ndimage import gaussian_filter1d\n",
    "from sklearn.linear_model import LogisticRegression\n",
    "\n",
    "from mlresearch.utils import set_matplotlib_style, parallel_loop\n",
    "from recgame.recourse import NFeatureRecourse\n",
    "from recgame.populations import BasePopulation\n",
    "from recgame.environments import (\n",
    "    BankLoanApplication2,\n",
    "    BankLoanApplication3,\n",
    "    WillingnessEnvironment,\n",
    ")\n",
    "from recgame.visualization import (\n",
    "    simulations_scores_panel,\n",
    "    simulations_success_rate_panels,\n",
    ")\n",
    "from recgame.utils import generate_synthetic_data"
   ]
  },
  {
   "cell_type": "code",
   "execution_count": 2,
   "id": "cb017407-c873-416c-a970-3c41c4ef8b7f",
   "metadata": {
    "tags": []
   },
   "outputs": [],
   "source": [
    "set_matplotlib_style(8, **{\"lines.markersize\": 1})\n",
    "\n",
    "# Some variables to define the problem\n",
    "RNG_SEED = 42\n",
    "N_CONTINUOUS = 2\n",
    "N_CAT = 0\n",
    "N_AGENTS = 100\n",
    "\n",
    "df, y, categorical = generate_synthetic_data(N_AGENTS, N_CONTINUOUS, N_CAT, RNG_SEED)\n",
    "\n",
    "lr = LogisticRegression().fit(df, y)"
   ]
  },
  {
   "cell_type": "code",
   "execution_count": 3,
   "id": "a27276ba-c1ea-4d8f-a193-8912f4392cde",
   "metadata": {
    "tags": []
   },
   "outputs": [],
   "source": [
    "population = BasePopulation(df, categorical=categorical)\n",
    "\n",
    "# Remove upper and lower bounds\n",
    "population.action_set_.ub = [1.5, 1.5]\n",
    "population.action_set_.lb = [0, 0]\n",
    "\n",
    "recourse = NFeatureRecourse(lr, n_features=2)"
   ]
  },
  {
   "cell_type": "markdown",
   "id": "fed42d3f-37fa-4a06-82c2-30c9e464fadb",
   "metadata": {
    "tags": []
   },
   "source": [
    "# Bank Loan application - Gaussian adaptation"
   ]
  },
  {
   "cell_type": "code",
   "execution_count": 4,
   "id": "a6a248fd-1b70-40b0-a98f-093ce48cd5f9",
   "metadata": {
    "tags": []
   },
   "outputs": [
    {
     "data": {
      "text/plain": [
       "([10], [0.1, 0.3, 0.5, 0.7, 0.9], [8, 9, 10, 11, 12])"
      ]
     },
     "execution_count": 4,
     "metadata": {},
     "output_type": "execute_result"
    }
   ],
   "source": [
    "# Meta-simulation variables\n",
    "N_LOANS_BLA3 = [10]  # number of loans is fixed\n",
    "ADAPTATION_BLA3 = [0.1, 0.3, 0.5, 0.7, 0.9]\n",
    "NEW_AGENTS_BLA3 = [8, 9, 10, 11, 12]\n",
    "N_LOANS_BLA3, ADAPTATION_BLA3, NEW_AGENTS_BLA3"
   ]
  },
  {
   "cell_type": "code",
   "execution_count": null,
   "id": "4ffe7f48-6155-4a2f-8229-ee1832895d42",
   "metadata": {
    "tags": []
   },
   "outputs": [
    {
     "data": {
      "application/vnd.jupyter.widget-view+json": {
       "model_id": "d64aa402101f434e9f8b5c1b2e2ee0ab",
       "version_major": 2,
       "version_minor": 0
      },
      "text/plain": [
       "Output()"
      ]
     },
     "metadata": {},
     "output_type": "display_data"
    },
    {
     "data": {
      "text/html": [
       "<pre style=\"white-space:pre;overflow-x:auto;line-height:normal;font-family:Menlo,'DejaVu Sans Mono',consolas,'Courier New',monospace\"></pre>\n"
      ],
      "text/plain": []
     },
     "metadata": {},
     "output_type": "display_data"
    },
    {
     "data": {
      "text/html": [
       "<pre style=\"white-space:pre;overflow-x:auto;line-height:normal;font-family:Menlo,'DejaVu Sans Mono',consolas,'Courier New',monospace\">\n",
       "</pre>\n"
      ],
      "text/plain": [
       "\n"
      ]
     },
     "metadata": {},
     "output_type": "display_data"
    }
   ],
   "source": [
    "def _meta_simulation(params):\n",
    "    loans, adapt, agents = params\n",
    "    environment = BankLoanApplication3(\n",
    "        deepcopy(population),\n",
    "        deepcopy(recourse),\n",
    "        n_loans=loans,\n",
    "        adaptation=adapt,\n",
    "        new_agents=agents,\n",
    "        random_state=RNG_SEED,\n",
    "    )\n",
    "    try:\n",
    "        environment.run_simulation(50)\n",
    "    except ValueError:\n",
    "        pass\n",
    "\n",
    "    return {\"n_loans\": loans, \"adaptation\": adapt, \"new_agents\": agents}, environment\n",
    "\n",
    "\n",
    "results_bla3 = parallel_loop(\n",
    "    _meta_simulation,\n",
    "    list(product(N_LOANS_BLA3, ADAPTATION_BLA3, NEW_AGENTS_BLA3)),\n",
    "    n_jobs=-1,\n",
    "    progress_bar=True,\n",
    "    description=None,\n",
    ")"
   ]
  },
  {
   "cell_type": "code",
   "execution_count": null,
   "id": "e0f9b777-a5d5-4116-8a05-930929fcb53b",
   "metadata": {
    "tags": []
   },
   "outputs": [],
   "source": [
    "simulations_scores_panel(results_bla3, ADAPTATION_BLA3, NEW_AGENTS_BLA3)\n",
    "plt.show()"
   ]
  },
  {
   "cell_type": "code",
   "execution_count": null,
   "id": "cc423f56-d4fc-43fd-965e-896d56f05321",
   "metadata": {
    "tags": []
   },
   "outputs": [],
   "source": [
    "simulations_success_rate_panels(results_bla3, ADAPTATION_BLA3, NEW_AGENTS_BLA3)\n",
    "plt.show()"
   ]
  },
  {
   "cell_type": "markdown",
   "id": "3599f19d-85c0-416c-b444-dd7357ef5651",
   "metadata": {
    "jp-MarkdownHeadingCollapsed": true,
    "tags": []
   },
   "source": [
    "# Bank Loan application - Binary adaptation"
   ]
  },
  {
   "cell_type": "code",
   "execution_count": null,
   "id": "fe11f794-07a2-44b0-857e-e13deaadee35",
   "metadata": {
    "tags": []
   },
   "outputs": [],
   "source": [
    "# Meta-simulation variables\n",
    "N_LOANS_BLA2 = [10]  # number of loans is fixed\n",
    "ADAPTATION_BLA2 = [8, 9, 10, 11, 12]\n",
    "NEW_AGENTS_BLA2 = [8, 9, 10, 11, 12]\n",
    "N_LOANS_BLA2, ADAPTATION_BLA2, NEW_AGENTS_BLA2"
   ]
  },
  {
   "cell_type": "code",
   "execution_count": null,
   "id": "4bf063b8-cc7e-4c9e-95b5-8e416485d0dc",
   "metadata": {
    "tags": []
   },
   "outputs": [],
   "source": [
    "def _meta_simulation(params):\n",
    "    loans, adapt, agents = params\n",
    "    environment = BankLoanApplication2(\n",
    "        deepcopy(population),\n",
    "        deepcopy(recourse),\n",
    "        n_loans=loans,\n",
    "        adaptation=adapt,\n",
    "        new_agents=agents,\n",
    "        random_state=RNG_SEED,\n",
    "    )\n",
    "    try:\n",
    "        environment.run_simulation(50)\n",
    "    except (ValueError, KeyError):\n",
    "        pass\n",
    "\n",
    "    return {\"n_loans\": loans, \"adaptation\": adapt, \"new_agents\": agents}, environment\n",
    "\n",
    "\n",
    "results_bla2 = parallel_loop(\n",
    "    _meta_simulation,\n",
    "    list(product(N_LOANS_BLA2, ADAPTATION_BLA2, NEW_AGENTS_BLA2)),\n",
    "    n_jobs=-1,\n",
    "    progress_bar=True,\n",
    "    description=None,\n",
    ")"
   ]
  },
  {
   "cell_type": "code",
   "execution_count": null,
   "id": "694a0d0d-00eb-4563-b4b5-fe38303c2edf",
   "metadata": {
    "tags": []
   },
   "outputs": [],
   "source": [
    "simulations_scores_panel(results_bla2, ADAPTATION_BLA2, NEW_AGENTS_BLA2)\n",
    "plt.show()"
   ]
  },
  {
   "cell_type": "code",
   "execution_count": null,
   "id": "4a9e3c9e-36e0-4bb0-8328-cd03e99903e1",
   "metadata": {
    "tags": []
   },
   "outputs": [],
   "source": [
    "simulations_success_rate_panels(results_bla2, ADAPTATION_BLA2, NEW_AGENTS_BLA2)\n",
    "plt.show()"
   ]
  },
  {
   "cell_type": "markdown",
   "id": "3121a3da-8081-4995-bbb2-8ea9b082950c",
   "metadata": {
    "tags": []
   },
   "source": [
    "# Willingness Environment"
   ]
  },
  {
   "cell_type": "code",
   "execution_count": null,
   "id": "70aff41d-7140-4359-9411-f2f583d6db13",
   "metadata": {
    "tags": []
   },
   "outputs": [],
   "source": [
    "# Meta-simulation variables\n",
    "N_LOANS_WILL = [10]  # number of loans is fixed\n",
    "ADAPTATION_WILL = [0.1, 0.3, 0.5, 0.7, 0.9]\n",
    "NEW_AGENTS_WILL = [8, 9, 10, 11, 12]\n",
    "N_LOANS_WILL, ADAPTATION_WILL, NEW_AGENTS_WILL"
   ]
  },
  {
   "cell_type": "code",
   "execution_count": null,
   "id": "718d7ce5-8d92-4ffd-be52-8c0911ca8e0f",
   "metadata": {
    "tags": []
   },
   "outputs": [],
   "source": [
    "def _meta_simulation(params):\n",
    "    loans, adapt, agents = params\n",
    "    environment = WillingnessEnvironment(\n",
    "        deepcopy(population),\n",
    "        deepcopy(recourse),\n",
    "        n_loans=loans,\n",
    "        adaptation=adapt,\n",
    "        new_agents=agents,\n",
    "        random_state=RNG_SEED,\n",
    "    )\n",
    "    try:\n",
    "        environment.run_simulation(50)\n",
    "    except ValueError:\n",
    "        pass\n",
    "\n",
    "    return {\"n_loans\": loans, \"adaptation\": adapt, \"new_agents\": agents}, environment\n",
    "\n",
    "\n",
    "results_will = parallel_loop(\n",
    "    _meta_simulation,\n",
    "    list(product(N_LOANS_WILL, ADAPTATION_WILL, NEW_AGENTS_WILL)),\n",
    "    n_jobs=-1,\n",
    "    progress_bar=True,\n",
    "    description=None,\n",
    ")"
   ]
  },
  {
   "cell_type": "code",
   "execution_count": null,
   "id": "d3619d93-b3bd-426c-9c82-cb578d6974a6",
   "metadata": {
    "tags": []
   },
   "outputs": [],
   "source": [
    "simulations_scores_panel(results_will, ADAPTATION_WILL, NEW_AGENTS_WILL)\n",
    "plt.show()"
   ]
  },
  {
   "cell_type": "code",
   "execution_count": null,
   "id": "f88c1a68-f2f8-4dc5-8b6e-b45b51ca89c2",
   "metadata": {
    "tags": []
   },
   "outputs": [],
   "source": [
    "simulations_success_rate_panels(results_will, ADAPTATION_WILL, NEW_AGENTS_WILL)\n",
    "plt.show()"
   ]
  }
 ],
 "metadata": {
  "kernelspec": {
   "display_name": "Python 3 (ipykernel)",
   "language": "python",
   "name": "python3"
  },
  "language_info": {
   "codemirror_mode": {
    "name": "ipython",
    "version": 3
   },
   "file_extension": ".py",
   "mimetype": "text/x-python",
   "name": "python",
   "nbconvert_exporter": "python",
   "pygments_lexer": "ipython3",
   "version": "3.10.9"
  }
 },
 "nbformat": 4,
 "nbformat_minor": 5
}
