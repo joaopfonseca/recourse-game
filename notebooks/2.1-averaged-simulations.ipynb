{
 "cells": [
  {
   "cell_type": "code",
   "execution_count": 1,
   "id": "f68c3bcf-c69f-41bc-a4f2-6c96ad16165e",
   "metadata": {
    "tags": []
   },
   "outputs": [],
   "source": [
    "# !pip install git+https://github.com/joaopfonseca/ml-research"
   ]
  },
  {
   "cell_type": "code",
   "execution_count": 2,
   "id": "33c3dec6-7ce5-4a5b-9584-8f2f10c5f3fe",
   "metadata": {
    "tags": []
   },
   "outputs": [],
   "source": [
    "import sys\n",
    "\n",
    "sys.path.append(\"../\")"
   ]
  },
  {
   "cell_type": "markdown",
   "id": "d60bc2a4-8111-4215-8e4a-cb7abe7423cf",
   "metadata": {
    "tags": []
   },
   "source": [
    "# Imports and Problem setup"
   ]
  },
  {
   "cell_type": "code",
   "execution_count": 3,
   "id": "bbe74cab-6ab5-4191-b23f-09b324d96318",
   "metadata": {
    "tags": []
   },
   "outputs": [],
   "source": [
    "from itertools import product\n",
    "from copy import deepcopy\n",
    "from rich.progress import track\n",
    "\n",
    "import numpy as np\n",
    "import pandas as pd\n",
    "import matplotlib.pyplot as plt\n",
    "from scipy.ndimage import gaussian_filter1d\n",
    "from sklearn.linear_model import LogisticRegression\n",
    "\n",
    "from mlresearch.utils import set_matplotlib_style, parallel_loop\n",
    "from mlresearch.utils._check_pipelines import check_random_states\n",
    "from algorec.recourse import NFeatureRecourse\n",
    "from algorec.populations import BasePopulation\n",
    "from algorec.environments import (\n",
    "    BankLoanApplication2,\n",
    "    BankLoanApplication3,\n",
    "    WillingnessEnvironment,\n",
    ")\n",
    "from algorec.visualization import (\n",
    "    simulations_scores_panel,\n",
    "    simulations_success_rate_panels,\n",
    ")\n",
    "from algorec.utils import generate_synthetic_data"
   ]
  },
  {
   "cell_type": "markdown",
   "id": "ff41d7ea-3378-48a1-b0dc-5f8b1f61248c",
   "metadata": {},
   "source": [
    "# Environment setup"
   ]
  },
  {
   "cell_type": "code",
   "execution_count": 4,
   "id": "b77e32c7-e56f-4730-a946-1b476cef2b4d",
   "metadata": {
    "tags": []
   },
   "outputs": [],
   "source": [
    "set_matplotlib_style(8, **{\"lines.markersize\": 1})\n",
    "\n",
    "# Some variables to define the problem\n",
    "RNG_SEED = 42\n",
    "N_CONTINUOUS = 2\n",
    "N_CAT = 0\n",
    "N_AGENTS = 100"
   ]
  },
  {
   "cell_type": "code",
   "execution_count": 5,
   "id": "a27276ba-c1ea-4d8f-a193-8912f4392cde",
   "metadata": {
    "tags": []
   },
   "outputs": [],
   "source": [
    "df, y, categorical = generate_synthetic_data(N_AGENTS, N_CONTINUOUS, N_CAT, RNG_SEED)\n",
    "\n",
    "lr = LogisticRegression().fit(df, y)\n",
    "population = BasePopulation(df, categorical=categorical)\n",
    "\n",
    "# Remove upper and lower bounds\n",
    "# population.action_set_.ub = [1, 1]\n",
    "# population.action_set_.lb = [0, 0]\n",
    "\n",
    "recourse = NFeatureRecourse(lr, n_features=2)"
   ]
  },
  {
   "cell_type": "markdown",
   "id": "fed42d3f-37fa-4a06-82c2-30c9e464fadb",
   "metadata": {
    "tags": []
   },
   "source": [
    "# Bank Loan application - Gaussian adaptation"
   ]
  },
  {
   "cell_type": "code",
   "execution_count": 6,
   "id": "a6a248fd-1b70-40b0-a98f-093ce48cd5f9",
   "metadata": {
    "tags": []
   },
   "outputs": [
    {
     "data": {
      "text/plain": [
       "([10], [0.1, 0.3, 0.5, 0.7, 0.9], [8, 9, 10, 11, 12])"
      ]
     },
     "execution_count": 6,
     "metadata": {},
     "output_type": "execute_result"
    }
   ],
   "source": [
    "# Meta-simulation variables\n",
    "N_LOANS_BLA3 = [10]  # number of loans is fixed\n",
    "ADAPTATION_BLA3 = [0.1, 0.3, 0.5, 0.7, 0.9]\n",
    "NEW_AGENTS_BLA3 = [8, 9, 10, 11, 12]\n",
    "N_LOANS_BLA3, ADAPTATION_BLA3, NEW_AGENTS_BLA3"
   ]
  },
  {
   "cell_type": "code",
   "execution_count": 7,
   "id": "4ffe7f48-6155-4a2f-8229-ee1832895d42",
   "metadata": {
    "tags": []
   },
   "outputs": [
    {
     "data": {
      "application/vnd.jupyter.widget-view+json": {
       "model_id": "fa975f19def04cc39eb889f84fca4aca",
       "version_major": 2,
       "version_minor": 0
      },
      "text/plain": [
       "Output()"
      ]
     },
     "metadata": {},
     "output_type": "display_data"
    },
    {
     "data": {
      "text/html": [
       "<pre style=\"white-space:pre;overflow-x:auto;line-height:normal;font-family:Menlo,'DejaVu Sans Mono',consolas,'Courier New',monospace\"></pre>\n"
      ],
      "text/plain": []
     },
     "metadata": {},
     "output_type": "display_data"
    },
    {
     "data": {
      "text/html": [
       "<pre style=\"white-space:pre;overflow-x:auto;line-height:normal;font-family:Menlo,'DejaVu Sans Mono',consolas,'Courier New',monospace\">\n",
       "</pre>\n"
      ],
      "text/plain": [
       "\n"
      ]
     },
     "metadata": {},
     "output_type": "display_data"
    },
    {
     "ename": "KeyboardInterrupt",
     "evalue": "",
     "output_type": "error",
     "traceback": [
      "\u001b[0;31m---------------------------------------------------------------------------\u001b[0m",
      "\u001b[0;31mKeyboardInterrupt\u001b[0m                         Traceback (most recent call last)",
      "Cell \u001b[0;32mIn[7], line 19\u001b[0m\n\u001b[1;32m     14\u001b[0m         \u001b[38;5;28;01mpass\u001b[39;00m\n\u001b[1;32m     16\u001b[0m     \u001b[38;5;28;01mreturn\u001b[39;00m {\u001b[38;5;124m\"\u001b[39m\u001b[38;5;124mn_loans\u001b[39m\u001b[38;5;124m\"\u001b[39m: loans, \u001b[38;5;124m\"\u001b[39m\u001b[38;5;124madaptation\u001b[39m\u001b[38;5;124m\"\u001b[39m: adapt, \u001b[38;5;124m\"\u001b[39m\u001b[38;5;124mnew_agents\u001b[39m\u001b[38;5;124m\"\u001b[39m: agents}, environment\n\u001b[0;32m---> 19\u001b[0m results_bla3 \u001b[38;5;241m=\u001b[39m \u001b[43mparallel_loop\u001b[49m\u001b[43m(\u001b[49m\n\u001b[1;32m     20\u001b[0m \u001b[43m    \u001b[49m\u001b[43m_meta_simulation\u001b[49m\u001b[43m,\u001b[49m\n\u001b[1;32m     21\u001b[0m \u001b[43m    \u001b[49m\u001b[38;5;28;43mlist\u001b[39;49m\u001b[43m(\u001b[49m\u001b[43mproduct\u001b[49m\u001b[43m(\u001b[49m\u001b[43mN_LOANS_BLA3\u001b[49m\u001b[43m,\u001b[49m\u001b[43m \u001b[49m\u001b[43mADAPTATION_BLA3\u001b[49m\u001b[43m,\u001b[49m\u001b[43m \u001b[49m\u001b[43mNEW_AGENTS_BLA3\u001b[49m\u001b[43m)\u001b[49m\u001b[43m)\u001b[49m\u001b[43m,\u001b[49m\n\u001b[1;32m     22\u001b[0m \u001b[43m    \u001b[49m\u001b[43mn_jobs\u001b[49m\u001b[38;5;241;43m=\u001b[39;49m\u001b[38;5;241;43m-\u001b[39;49m\u001b[38;5;241;43m1\u001b[39;49m\u001b[43m,\u001b[49m\n\u001b[1;32m     23\u001b[0m \u001b[43m    \u001b[49m\u001b[43mprogress_bar\u001b[49m\u001b[38;5;241;43m=\u001b[39;49m\u001b[38;5;28;43;01mTrue\u001b[39;49;00m\u001b[43m,\u001b[49m\n\u001b[1;32m     24\u001b[0m \u001b[43m    \u001b[49m\u001b[43mdescription\u001b[49m\u001b[38;5;241;43m=\u001b[39;49m\u001b[38;5;28;43;01mNone\u001b[39;49;00m\u001b[43m,\u001b[49m\n\u001b[1;32m     25\u001b[0m \u001b[43m)\u001b[49m\n",
      "File \u001b[0;32m~/miniconda3/envs/recourse-game/lib/python3.10/site-packages/mlresearch/utils/_parallelize.py:48\u001b[0m, in \u001b[0;36mparallel_loop\u001b[0;34m(function, iterable, n_jobs, progress_bar, description)\u001b[0m\n\u001b[1;32m     46\u001b[0m n_jobs \u001b[38;5;241m=\u001b[39m _get_n_jobs(n_jobs)\n\u001b[1;32m     47\u001b[0m iterable \u001b[38;5;241m=\u001b[39m track(iterable, description\u001b[38;5;241m=\u001b[39mdescription) \u001b[38;5;28;01mif\u001b[39;00m progress_bar \u001b[38;5;28;01melse\u001b[39;00m iterable\n\u001b[0;32m---> 48\u001b[0m \u001b[38;5;28;01mreturn\u001b[39;00m \u001b[43mParallel\u001b[49m\u001b[43m(\u001b[49m\u001b[43mn_jobs\u001b[49m\u001b[38;5;241;43m=\u001b[39;49m\u001b[43mn_jobs\u001b[49m\u001b[43m)\u001b[49m\u001b[43m(\u001b[49m\u001b[43mdelayed\u001b[49m\u001b[43m(\u001b[49m\u001b[43mfunction\u001b[49m\u001b[43m)\u001b[49m\u001b[43m(\u001b[49m\u001b[43mi\u001b[49m\u001b[43m)\u001b[49m\u001b[43m \u001b[49m\u001b[38;5;28;43;01mfor\u001b[39;49;00m\u001b[43m \u001b[49m\u001b[43mi\u001b[49m\u001b[43m \u001b[49m\u001b[38;5;129;43;01min\u001b[39;49;00m\u001b[43m \u001b[49m\u001b[43miterable\u001b[49m\u001b[43m)\u001b[49m\n",
      "File \u001b[0;32m~/miniconda3/envs/recourse-game/lib/python3.10/site-packages/joblib/parallel.py:1098\u001b[0m, in \u001b[0;36mParallel.__call__\u001b[0;34m(self, iterable)\u001b[0m\n\u001b[1;32m   1095\u001b[0m     \u001b[38;5;28mself\u001b[39m\u001b[38;5;241m.\u001b[39m_iterating \u001b[38;5;241m=\u001b[39m \u001b[38;5;28;01mFalse\u001b[39;00m\n\u001b[1;32m   1097\u001b[0m \u001b[38;5;28;01mwith\u001b[39;00m \u001b[38;5;28mself\u001b[39m\u001b[38;5;241m.\u001b[39m_backend\u001b[38;5;241m.\u001b[39mretrieval_context():\n\u001b[0;32m-> 1098\u001b[0m     \u001b[38;5;28;43mself\u001b[39;49m\u001b[38;5;241;43m.\u001b[39;49m\u001b[43mretrieve\u001b[49m\u001b[43m(\u001b[49m\u001b[43m)\u001b[49m\n\u001b[1;32m   1099\u001b[0m \u001b[38;5;66;03m# Make sure that we get a last message telling us we are done\u001b[39;00m\n\u001b[1;32m   1100\u001b[0m elapsed_time \u001b[38;5;241m=\u001b[39m time\u001b[38;5;241m.\u001b[39mtime() \u001b[38;5;241m-\u001b[39m \u001b[38;5;28mself\u001b[39m\u001b[38;5;241m.\u001b[39m_start_time\n",
      "File \u001b[0;32m~/miniconda3/envs/recourse-game/lib/python3.10/site-packages/joblib/parallel.py:975\u001b[0m, in \u001b[0;36mParallel.retrieve\u001b[0;34m(self)\u001b[0m\n\u001b[1;32m    973\u001b[0m \u001b[38;5;28;01mtry\u001b[39;00m:\n\u001b[1;32m    974\u001b[0m     \u001b[38;5;28;01mif\u001b[39;00m \u001b[38;5;28mgetattr\u001b[39m(\u001b[38;5;28mself\u001b[39m\u001b[38;5;241m.\u001b[39m_backend, \u001b[38;5;124m'\u001b[39m\u001b[38;5;124msupports_timeout\u001b[39m\u001b[38;5;124m'\u001b[39m, \u001b[38;5;28;01mFalse\u001b[39;00m):\n\u001b[0;32m--> 975\u001b[0m         \u001b[38;5;28mself\u001b[39m\u001b[38;5;241m.\u001b[39m_output\u001b[38;5;241m.\u001b[39mextend(\u001b[43mjob\u001b[49m\u001b[38;5;241;43m.\u001b[39;49m\u001b[43mget\u001b[49m\u001b[43m(\u001b[49m\u001b[43mtimeout\u001b[49m\u001b[38;5;241;43m=\u001b[39;49m\u001b[38;5;28;43mself\u001b[39;49m\u001b[38;5;241;43m.\u001b[39;49m\u001b[43mtimeout\u001b[49m\u001b[43m)\u001b[49m)\n\u001b[1;32m    976\u001b[0m     \u001b[38;5;28;01melse\u001b[39;00m:\n\u001b[1;32m    977\u001b[0m         \u001b[38;5;28mself\u001b[39m\u001b[38;5;241m.\u001b[39m_output\u001b[38;5;241m.\u001b[39mextend(job\u001b[38;5;241m.\u001b[39mget())\n",
      "File \u001b[0;32m~/miniconda3/envs/recourse-game/lib/python3.10/site-packages/joblib/_parallel_backends.py:567\u001b[0m, in \u001b[0;36mLokyBackend.wrap_future_result\u001b[0;34m(future, timeout)\u001b[0m\n\u001b[1;32m    564\u001b[0m \u001b[38;5;250m\u001b[39m\u001b[38;5;124;03m\"\"\"Wrapper for Future.result to implement the same behaviour as\u001b[39;00m\n\u001b[1;32m    565\u001b[0m \u001b[38;5;124;03mAsyncResults.get from multiprocessing.\"\"\"\u001b[39;00m\n\u001b[1;32m    566\u001b[0m \u001b[38;5;28;01mtry\u001b[39;00m:\n\u001b[0;32m--> 567\u001b[0m     \u001b[38;5;28;01mreturn\u001b[39;00m \u001b[43mfuture\u001b[49m\u001b[38;5;241;43m.\u001b[39;49m\u001b[43mresult\u001b[49m\u001b[43m(\u001b[49m\u001b[43mtimeout\u001b[49m\u001b[38;5;241;43m=\u001b[39;49m\u001b[43mtimeout\u001b[49m\u001b[43m)\u001b[49m\n\u001b[1;32m    568\u001b[0m \u001b[38;5;28;01mexcept\u001b[39;00m CfTimeoutError \u001b[38;5;28;01mas\u001b[39;00m e:\n\u001b[1;32m    569\u001b[0m     \u001b[38;5;28;01mraise\u001b[39;00m \u001b[38;5;167;01mTimeoutError\u001b[39;00m \u001b[38;5;28;01mfrom\u001b[39;00m \u001b[38;5;21;01me\u001b[39;00m\n",
      "File \u001b[0;32m~/miniconda3/envs/recourse-game/lib/python3.10/concurrent/futures/_base.py:453\u001b[0m, in \u001b[0;36mFuture.result\u001b[0;34m(self, timeout)\u001b[0m\n\u001b[1;32m    450\u001b[0m \u001b[38;5;28;01melif\u001b[39;00m \u001b[38;5;28mself\u001b[39m\u001b[38;5;241m.\u001b[39m_state \u001b[38;5;241m==\u001b[39m FINISHED:\n\u001b[1;32m    451\u001b[0m     \u001b[38;5;28;01mreturn\u001b[39;00m \u001b[38;5;28mself\u001b[39m\u001b[38;5;241m.\u001b[39m__get_result()\n\u001b[0;32m--> 453\u001b[0m \u001b[38;5;28;43mself\u001b[39;49m\u001b[38;5;241;43m.\u001b[39;49m\u001b[43m_condition\u001b[49m\u001b[38;5;241;43m.\u001b[39;49m\u001b[43mwait\u001b[49m\u001b[43m(\u001b[49m\u001b[43mtimeout\u001b[49m\u001b[43m)\u001b[49m\n\u001b[1;32m    455\u001b[0m \u001b[38;5;28;01mif\u001b[39;00m \u001b[38;5;28mself\u001b[39m\u001b[38;5;241m.\u001b[39m_state \u001b[38;5;129;01min\u001b[39;00m [CANCELLED, CANCELLED_AND_NOTIFIED]:\n\u001b[1;32m    456\u001b[0m     \u001b[38;5;28;01mraise\u001b[39;00m CancelledError()\n",
      "File \u001b[0;32m~/miniconda3/envs/recourse-game/lib/python3.10/threading.py:320\u001b[0m, in \u001b[0;36mCondition.wait\u001b[0;34m(self, timeout)\u001b[0m\n\u001b[1;32m    318\u001b[0m \u001b[38;5;28;01mtry\u001b[39;00m:    \u001b[38;5;66;03m# restore state no matter what (e.g., KeyboardInterrupt)\u001b[39;00m\n\u001b[1;32m    319\u001b[0m     \u001b[38;5;28;01mif\u001b[39;00m timeout \u001b[38;5;129;01mis\u001b[39;00m \u001b[38;5;28;01mNone\u001b[39;00m:\n\u001b[0;32m--> 320\u001b[0m         \u001b[43mwaiter\u001b[49m\u001b[38;5;241;43m.\u001b[39;49m\u001b[43macquire\u001b[49m\u001b[43m(\u001b[49m\u001b[43m)\u001b[49m\n\u001b[1;32m    321\u001b[0m         gotit \u001b[38;5;241m=\u001b[39m \u001b[38;5;28;01mTrue\u001b[39;00m\n\u001b[1;32m    322\u001b[0m     \u001b[38;5;28;01melse\u001b[39;00m:\n",
      "\u001b[0;31mKeyboardInterrupt\u001b[0m: "
     ]
    }
   ],
   "source": [
    "def _meta_simulation(params):\n",
    "    loans, adapt, agents = params\n",
    "    environment = BankLoanApplication3(\n",
    "        deepcopy(population),\n",
    "        deepcopy(recourse),\n",
    "        n_loans=loans,\n",
    "        adaptation=adapt,\n",
    "        new_agents=agents,\n",
    "        random_state=RNG_SEED,\n",
    "    )\n",
    "    try:\n",
    "        environment.run_simulation(50)\n",
    "    except ValueError:\n",
    "        pass\n",
    "\n",
    "    return {\"n_loans\": loans, \"adaptation\": adapt, \"new_agents\": agents}, environment\n",
    "\n",
    "\n",
    "results_bla3 = parallel_loop(\n",
    "    _meta_simulation,\n",
    "    list(product(N_LOANS_BLA3, ADAPTATION_BLA3, NEW_AGENTS_BLA3)),\n",
    "    n_jobs=-1,\n",
    "    progress_bar=True,\n",
    "    description=None,\n",
    ")"
   ]
  },
  {
   "cell_type": "code",
   "execution_count": null,
   "id": "e0f9b777-a5d5-4116-8a05-930929fcb53b",
   "metadata": {
    "tags": []
   },
   "outputs": [],
   "source": [
    "simulations_scores_panel(results_bla3, ADAPTATION_BLA3, NEW_AGENTS_BLA3)\n",
    "plt.show()"
   ]
  },
  {
   "cell_type": "code",
   "execution_count": null,
   "id": "cc423f56-d4fc-43fd-965e-896d56f05321",
   "metadata": {
    "tags": []
   },
   "outputs": [],
   "source": [
    "simulations_success_rate_panels(results_bla3, ADAPTATION_BLA3, NEW_AGENTS_BLA3)\n",
    "plt.show()"
   ]
  },
  {
   "cell_type": "markdown",
   "id": "3599f19d-85c0-416c-b444-dd7357ef5651",
   "metadata": {
    "tags": []
   },
   "source": [
    "# Bank Loan application - Binary adaptation"
   ]
  },
  {
   "cell_type": "code",
   "execution_count": null,
   "id": "fe11f794-07a2-44b0-857e-e13deaadee35",
   "metadata": {
    "tags": []
   },
   "outputs": [],
   "source": [
    "# Meta-simulation variables\n",
    "N_LOANS_BLA2 = [10]  # number of loans is fixed\n",
    "ADAPTATION_BLA2 = [8, 9, 10, 11, 12]\n",
    "NEW_AGENTS_BLA2 = [8, 9, 10, 11, 12]\n",
    "N_LOANS_BLA2, ADAPTATION_BLA2, NEW_AGENTS_BLA2"
   ]
  },
  {
   "cell_type": "code",
   "execution_count": null,
   "id": "4bf063b8-cc7e-4c9e-95b5-8e416485d0dc",
   "metadata": {
    "tags": []
   },
   "outputs": [],
   "source": [
    "def _meta_simulation(params):\n",
    "    loans, adapt, agents = params\n",
    "    environment = BankLoanApplication2(\n",
    "        deepcopy(population),\n",
    "        deepcopy(recourse),\n",
    "        n_loans=loans,\n",
    "        adaptation=adapt,\n",
    "        new_agents=agents,\n",
    "        random_state=RNG_SEED,\n",
    "    )\n",
    "    try:\n",
    "        environment.run_simulation(50)\n",
    "    except (ValueError, KeyError):\n",
    "        pass\n",
    "\n",
    "    return {\"n_loans\": loans, \"adaptation\": adapt, \"new_agents\": agents}, environment\n",
    "\n",
    "\n",
    "results_bla2 = parallel_loop(\n",
    "    _meta_simulation,\n",
    "    list(product(N_LOANS_BLA2, ADAPTATION_BLA2, NEW_AGENTS_BLA2)),\n",
    "    n_jobs=-1,\n",
    "    progress_bar=True,\n",
    "    description=None,\n",
    ")"
   ]
  },
  {
   "cell_type": "code",
   "execution_count": null,
   "id": "694a0d0d-00eb-4563-b4b5-fe38303c2edf",
   "metadata": {
    "tags": []
   },
   "outputs": [],
   "source": [
    "simulations_scores_panel(results_bla2, ADAPTATION_BLA2, NEW_AGENTS_BLA2)\n",
    "plt.show()"
   ]
  },
  {
   "cell_type": "code",
   "execution_count": null,
   "id": "4a9e3c9e-36e0-4bb0-8328-cd03e99903e1",
   "metadata": {
    "tags": []
   },
   "outputs": [],
   "source": [
    "simulations_success_rate_panels(results_bla2, ADAPTATION_BLA2, NEW_AGENTS_BLA2)\n",
    "plt.show()"
   ]
  },
  {
   "cell_type": "markdown",
   "id": "3121a3da-8081-4995-bbb2-8ea9b082950c",
   "metadata": {
    "tags": []
   },
   "source": [
    "# Willingness Environment"
   ]
  },
  {
   "cell_type": "code",
   "execution_count": null,
   "id": "70aff41d-7140-4359-9411-f2f583d6db13",
   "metadata": {
    "tags": []
   },
   "outputs": [],
   "source": [
    "# Meta-simulation variables\n",
    "N_LOANS_WILL = [10]  # number of loans is fixed\n",
    "ADAPTATION_WILL = [0.1, 0.3, 0.5, 0.7, 0.9]\n",
    "NEW_AGENTS_WILL = [8, 9, 10, 11, 12]\n",
    "N_LOANS_WILL, ADAPTATION_WILL, NEW_AGENTS_WILL"
   ]
  },
  {
   "cell_type": "code",
   "execution_count": null,
   "id": "718d7ce5-8d92-4ffd-be52-8c0911ca8e0f",
   "metadata": {
    "tags": []
   },
   "outputs": [],
   "source": [
    "def _meta_simulation(params):\n",
    "    loans, adapt, agents = params\n",
    "    environment = WillingnessEnvironment(\n",
    "        deepcopy(population),\n",
    "        deepcopy(recourse),\n",
    "        n_loans=loans,\n",
    "        adaptation=adapt,\n",
    "        new_agents=agents,\n",
    "        random_state=RNG_SEED,\n",
    "    )\n",
    "    try:\n",
    "        environment.run_simulation(50)\n",
    "    except ValueError:\n",
    "        pass\n",
    "\n",
    "    return {\"n_loans\": loans, \"adaptation\": adapt, \"new_agents\": agents}, environment\n",
    "\n",
    "\n",
    "results_will = parallel_loop(\n",
    "    _meta_simulation,\n",
    "    list(product(N_LOANS_WILL, ADAPTATION_WILL, NEW_AGENTS_WILL)),\n",
    "    n_jobs=-1,\n",
    "    progress_bar=True,\n",
    "    description=None,\n",
    ")"
   ]
  },
  {
   "cell_type": "code",
   "execution_count": null,
   "id": "d3619d93-b3bd-426c-9c82-cb578d6974a6",
   "metadata": {
    "tags": []
   },
   "outputs": [],
   "source": [
    "simulations_scores_panel(results_will, ADAPTATION_WILL, NEW_AGENTS_WILL)\n",
    "plt.show()"
   ]
  },
  {
   "cell_type": "code",
   "execution_count": null,
   "id": "f88c1a68-f2f8-4dc5-8b6e-b45b51ca89c2",
   "metadata": {
    "tags": []
   },
   "outputs": [],
   "source": [
    "simulations_success_rate_panels(results_will, ADAPTATION_WILL, NEW_AGENTS_WILL)\n",
    "plt.show()"
   ]
  }
 ],
 "metadata": {
  "kernelspec": {
   "display_name": "Python 3 (ipykernel)",
   "language": "python",
   "name": "python3"
  },
  "language_info": {
   "codemirror_mode": {
    "name": "ipython",
    "version": 3
   },
   "file_extension": ".py",
   "mimetype": "text/x-python",
   "name": "python",
   "nbconvert_exporter": "python",
   "pygments_lexer": "ipython3",
   "version": "3.10.9"
  }
 },
 "nbformat": 4,
 "nbformat_minor": 5
}
